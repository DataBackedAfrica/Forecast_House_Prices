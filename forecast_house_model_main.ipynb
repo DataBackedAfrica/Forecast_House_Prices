{
  "cells": [
    {
      "cell_type": "markdown",
      "metadata": {
        "id": "view-in-github",
        "colab_type": "text"
      },
      "source": [
        "<a href=\"https://colab.research.google.com/github/DataBackedAfrica/Forecast_House_Prices/blob/main/forecast_house_model_main.ipynb\" target=\"_parent\"><img src=\"https://colab.research.google.com/assets/colab-badge.svg\" alt=\"Open In Colab\"/></a>"
      ]
    },
    {
      "cell_type": "code",
      "execution_count": null,
      "metadata": {
        "id": "09_xH0SCp1aF"
      },
      "outputs": [],
      "source": [
        "\n",
        "\n",
        "import requests\n",
        "from bs4 import BeautifulSoup\n",
        "import pandas as pd\n",
        "import re\n",
        "import numpy as np\n",
        "import matplotlib.pyplot as plt\n",
        "import seaborn as sns"
      ]
    },
    {
      "cell_type": "code",
      "execution_count": null,
      "metadata": {
        "id": "RjQP4m83p8Zb"
      },
      "outputs": [],
      "source": [
        "listed_homes = []\n",
        "\n",
        "\n",
        "for i in range(1, 2000):\n",
        "  url= f'https://www.propertypro.ng/property-for-rent/page={i}'\n",
        "  headers ={'user-agent': 'Mozilla/5.0 (Macintosh; Intel Mac OS X 10_15_7) AppleWebKit/537.36 (KHTML, like Gecko) Chrome/112.0.0.0 Safari/537.36'}\n",
        "  res = requests.get(url,headers=headers)\n",
        "\n",
        "  pro_soup = BeautifulSoup(res.content, 'html.parser')\n",
        "  homes = pro_soup.find_all('div', class_='single-room-sale listings-property')\n",
        "  #extract information needed from website\n",
        "\n",
        "  for home in homes:\n",
        "\n",
        "    # extract date\n",
        "    day_ = home.find('h5').get_text(strip=True)\n",
        "    days= []\n",
        "\n",
        "    def extract_days(x):\n",
        "      extract_day = x.split(',')\n",
        "      length_ = len(extract_day)\n",
        "\n",
        "      if length_ < 2:\n",
        "        days.append(extract_day[0])\n",
        "      else:\n",
        "        days.append(extract_day[1])\n",
        "      return days\n",
        "\n",
        "    days = extract_days(day_)\n",
        "    # extract date from days text\n",
        "    for day in days:\n",
        "      # print(day)\n",
        "      ext = re.search(r\"(\\d{2} \\w+ \\d{4})\", day).group(0)\n",
        "\n",
        "\n",
        "\n",
        "    # home description is same tag h4 with location\n",
        "    # description is index 0\n",
        "    tag = home.find_all('h4')\n",
        "    desc = tag[0].get_text()\n",
        "\n",
        "    # location has same tag h4 name with desc\n",
        "    loc = tag[1].get_text(strip=True)\n",
        "\n",
        "\n",
        "    # type of apartment and price is in same h3 tag\n",
        "    # type of apartment\n",
        "    tag_1 = home.find_all('h3')\n",
        "    type_= tag_1[0].get_text()\n",
        "\n",
        "\n",
        "    # price, currency and payment type (year, monthly, sqm)\n",
        "    amount = tag_1[1].get_text()\n",
        "    currency = re.search(r'\\$|₦', amount).group(0)\n",
        "    price = re.search(r'[\\d,]+', amount).group(0)\n",
        "    # payment_type = re.search(r'/\\w+', amount)\n",
        "    # payment= np.nan if payment_type == None else payment_type.group(0).replace('/', '')\n",
        "\n",
        "\n",
        "    # number of bedrooms\n",
        "    span_= home.find_all('span')\n",
        "    num_of_beds = []\n",
        "    result= ''\n",
        "    # print(span_len)\n",
        "    def extract_span(x):\n",
        "      span_len= len(x)\n",
        "\n",
        "      if span_len < 7:\n",
        "         result= span_[2].get_text()\n",
        "      elif span_len == 7:\n",
        "        result = span_[4].get_text()\n",
        "      else:\n",
        "        result = span_[5].get_text()\n",
        "\n",
        "      num_of_beds.append(result)\n",
        "      return result\n",
        "\n",
        "    num_of_bed = extract_span(span_)\n",
        "\n",
        "\n",
        "    # if there is an error here with the first num of beds\n",
        "    # modify code with checking for span length\n",
        "    # if less than 7, the span_ index for beds is in index 3\n",
        "    # span_length = len(span_)\n",
        "\n",
        "    # extract type of furnishing\n",
        "    furnished_ = home.find('div', class_='furnished-btn').find_all('a')\n",
        "    furnished = []\n",
        "    furnishes= []\n",
        "    len_fur = len(furnished_)\n",
        "    [furnished.extend(list_) for list_ in furnished_ if len_fur > 0]\n",
        "    def check_list(lst):\n",
        "      if len(lst) == 0:\n",
        "        return 'NaN'\n",
        "      elif len_fur == 1:\n",
        "        return furnished[0]\n",
        "      else:\n",
        "        return str(furnished[0]) + ' ' + '&' + ' ' + str(furnished[1])\n",
        "    furnishes = check_list(furnished)\n",
        "\n",
        "    # print(loc)\n",
        "    listed_homes.append([ext, desc, type_,loc, num_of_bed, furnishes, currency, price])\n"
      ]
    },
    {
      "cell_type": "code",
      "execution_count": null,
      "metadata": {
        "colab": {
          "background_save": true
        },
        "id": "yVhdkf43qHGn",
        "outputId": "c27e3602-e8e1-4f54-8e50-d8368035e198"
      },
      "outputs": [
        {
          "data": {
            "text/html": [
              "\n",
              "  <div id=\"df-64b4d4bf-730d-4b14-8aac-3ffaf9fe50fb\" class=\"colab-df-container\">\n",
              "    <div>\n",
              "<style scoped>\n",
              "    .dataframe tbody tr th:only-of-type {\n",
              "        vertical-align: middle;\n",
              "    }\n",
              "\n",
              "    .dataframe tbody tr th {\n",
              "        vertical-align: top;\n",
              "    }\n",
              "\n",
              "    .dataframe thead th {\n",
              "        text-align: right;\n",
              "    }\n",
              "</style>\n",
              "<table border=\"1\" class=\"dataframe\">\n",
              "  <thead>\n",
              "    <tr style=\"text-align: right;\">\n",
              "      <th></th>\n",
              "      <th>Date</th>\n",
              "      <th>Description</th>\n",
              "      <th>Type</th>\n",
              "      <th>Location</th>\n",
              "      <th>Number Of Bedrooms</th>\n",
              "      <th>Furnished</th>\n",
              "      <th>Currency</th>\n",
              "      <th>Price</th>\n",
              "    </tr>\n",
              "  </thead>\n",
              "  <tbody>\n",
              "    <tr>\n",
              "      <th>99945</th>\n",
              "      <td>18 Aug 2023</td>\n",
              "      <td>2 BEDROOM FLAT / APARTMENT FOR RENT</td>\n",
              "      <td>2 Bedroom Flat</td>\n",
              "      <td>Alagomeji Yaba Lagos</td>\n",
              "      <td>2 beds</td>\n",
              "      <td>Furnished &amp; Newly Built</td>\n",
              "      <td>₦</td>\n",
              "      <td>2,500,000</td>\n",
              "    </tr>\n",
              "    <tr>\n",
              "      <th>99946</th>\n",
              "      <td>22 Jun 2023</td>\n",
              "      <td>4 BEDROOM HOUSE FOR RENT</td>\n",
              "      <td>Luxury Serviced 4 Bedroom Terrace Duplex</td>\n",
              "      <td>Ikate Lekki Lagos</td>\n",
              "      <td>4 beds</td>\n",
              "      <td>Serviced &amp; Newly Built</td>\n",
              "      <td>₦</td>\n",
              "      <td>7,000,000</td>\n",
              "    </tr>\n",
              "    <tr>\n",
              "      <th>99947</th>\n",
              "      <td>16 Aug 2023</td>\n",
              "      <td>3 BEDROOM HOUSE FOR RENT</td>\n",
              "      <td>Serviced 3 Bedroom Apartment</td>\n",
              "      <td>Victoria Island Lagos</td>\n",
              "      <td>3 beds</td>\n",
              "      <td>Serviced &amp; Newly Built</td>\n",
              "      <td>₦</td>\n",
              "      <td>15,000,000</td>\n",
              "    </tr>\n",
              "    <tr>\n",
              "      <th>99948</th>\n",
              "      <td>15 Aug 2023</td>\n",
              "      <td>2 BEDROOM HOUSE FOR RENT</td>\n",
              "      <td>Serviced 2 Bedroom Apartment</td>\n",
              "      <td>Phase 1, Lekki Lagos</td>\n",
              "      <td>2 beds</td>\n",
              "      <td>Serviced &amp; Newly Built</td>\n",
              "      <td>₦</td>\n",
              "      <td>7,500,000</td>\n",
              "    </tr>\n",
              "    <tr>\n",
              "      <th>99949</th>\n",
              "      <td>22 Aug 2023</td>\n",
              "      <td>3 BEDROOM HOUSE FOR RENT</td>\n",
              "      <td>Luxury 3 Bedroom Apartment + Bq</td>\n",
              "      <td>Victoria Island Lagos</td>\n",
              "      <td>3 beds</td>\n",
              "      <td>Serviced &amp; Newly Built</td>\n",
              "      <td>₦</td>\n",
              "      <td>8,000,000</td>\n",
              "    </tr>\n",
              "  </tbody>\n",
              "</table>\n",
              "</div>\n",
              "    <div class=\"colab-df-buttons\">\n",
              "\n",
              "  <div class=\"colab-df-container\">\n",
              "    <button class=\"colab-df-convert\" onclick=\"convertToInteractive('df-64b4d4bf-730d-4b14-8aac-3ffaf9fe50fb')\"\n",
              "            title=\"Convert this dataframe to an interactive table.\"\n",
              "            style=\"display:none;\">\n",
              "\n",
              "  <svg xmlns=\"http://www.w3.org/2000/svg\" height=\"24px\" viewBox=\"0 -960 960 960\">\n",
              "    <path d=\"M120-120v-720h720v720H120Zm60-500h600v-160H180v160Zm220 220h160v-160H400v160Zm0 220h160v-160H400v160ZM180-400h160v-160H180v160Zm440 0h160v-160H620v160ZM180-180h160v-160H180v160Zm440 0h160v-160H620v160Z\"/>\n",
              "  </svg>\n",
              "    </button>\n",
              "\n",
              "  <style>\n",
              "    .colab-df-container {\n",
              "      display:flex;\n",
              "      gap: 12px;\n",
              "    }\n",
              "\n",
              "    .colab-df-convert {\n",
              "      background-color: #E8F0FE;\n",
              "      border: none;\n",
              "      border-radius: 50%;\n",
              "      cursor: pointer;\n",
              "      display: none;\n",
              "      fill: #1967D2;\n",
              "      height: 32px;\n",
              "      padding: 0 0 0 0;\n",
              "      width: 32px;\n",
              "    }\n",
              "\n",
              "    .colab-df-convert:hover {\n",
              "      background-color: #E2EBFA;\n",
              "      box-shadow: 0px 1px 2px rgba(60, 64, 67, 0.3), 0px 1px 3px 1px rgba(60, 64, 67, 0.15);\n",
              "      fill: #174EA6;\n",
              "    }\n",
              "\n",
              "    .colab-df-buttons div {\n",
              "      margin-bottom: 4px;\n",
              "    }\n",
              "\n",
              "    [theme=dark] .colab-df-convert {\n",
              "      background-color: #3B4455;\n",
              "      fill: #D2E3FC;\n",
              "    }\n",
              "\n",
              "    [theme=dark] .colab-df-convert:hover {\n",
              "      background-color: #434B5C;\n",
              "      box-shadow: 0px 1px 3px 1px rgba(0, 0, 0, 0.15);\n",
              "      filter: drop-shadow(0px 1px 2px rgba(0, 0, 0, 0.3));\n",
              "      fill: #FFFFFF;\n",
              "    }\n",
              "  </style>\n",
              "\n",
              "    <script>\n",
              "      const buttonEl =\n",
              "        document.querySelector('#df-64b4d4bf-730d-4b14-8aac-3ffaf9fe50fb button.colab-df-convert');\n",
              "      buttonEl.style.display =\n",
              "        google.colab.kernel.accessAllowed ? 'block' : 'none';\n",
              "\n",
              "      async function convertToInteractive(key) {\n",
              "        const element = document.querySelector('#df-64b4d4bf-730d-4b14-8aac-3ffaf9fe50fb');\n",
              "        const dataTable =\n",
              "          await google.colab.kernel.invokeFunction('convertToInteractive',\n",
              "                                                    [key], {});\n",
              "        if (!dataTable) return;\n",
              "\n",
              "        const docLinkHtml = 'Like what you see? Visit the ' +\n",
              "          '<a target=\"_blank\" href=https://colab.research.google.com/notebooks/data_table.ipynb>data table notebook</a>'\n",
              "          + ' to learn more about interactive tables.';\n",
              "        element.innerHTML = '';\n",
              "        dataTable['output_type'] = 'display_data';\n",
              "        await google.colab.output.renderOutput(dataTable, element);\n",
              "        const docLink = document.createElement('div');\n",
              "        docLink.innerHTML = docLinkHtml;\n",
              "        element.appendChild(docLink);\n",
              "      }\n",
              "    </script>\n",
              "  </div>\n",
              "\n",
              "\n",
              "<div id=\"df-45459cf4-43d6-44c5-b514-81945a026ab9\">\n",
              "  <button class=\"colab-df-quickchart\" onclick=\"quickchart('df-45459cf4-43d6-44c5-b514-81945a026ab9')\"\n",
              "            title=\"Suggest charts.\"\n",
              "            style=\"display:none;\">\n",
              "\n",
              "<svg xmlns=\"http://www.w3.org/2000/svg\" height=\"24px\"viewBox=\"0 0 24 24\"\n",
              "     width=\"24px\">\n",
              "    <g>\n",
              "        <path d=\"M19 3H5c-1.1 0-2 .9-2 2v14c0 1.1.9 2 2 2h14c1.1 0 2-.9 2-2V5c0-1.1-.9-2-2-2zM9 17H7v-7h2v7zm4 0h-2V7h2v10zm4 0h-2v-4h2v4z\"/>\n",
              "    </g>\n",
              "</svg>\n",
              "  </button>\n",
              "\n",
              "<style>\n",
              "  .colab-df-quickchart {\n",
              "    background-color: #E8F0FE;\n",
              "    border: none;\n",
              "    border-radius: 50%;\n",
              "    cursor: pointer;\n",
              "    display: none;\n",
              "    fill: #1967D2;\n",
              "    height: 32px;\n",
              "    padding: 0 0 0 0;\n",
              "    width: 32px;\n",
              "  }\n",
              "\n",
              "  .colab-df-quickchart:hover {\n",
              "    background-color: #E2EBFA;\n",
              "    box-shadow: 0px 1px 2px rgba(60, 64, 67, 0.3), 0px 1px 3px 1px rgba(60, 64, 67, 0.15);\n",
              "    fill: #174EA6;\n",
              "  }\n",
              "\n",
              "  [theme=dark] .colab-df-quickchart {\n",
              "    background-color: #3B4455;\n",
              "    fill: #D2E3FC;\n",
              "  }\n",
              "\n",
              "  [theme=dark] .colab-df-quickchart:hover {\n",
              "    background-color: #434B5C;\n",
              "    box-shadow: 0px 1px 3px 1px rgba(0, 0, 0, 0.15);\n",
              "    filter: drop-shadow(0px 1px 2px rgba(0, 0, 0, 0.3));\n",
              "    fill: #FFFFFF;\n",
              "  }\n",
              "</style>\n",
              "\n",
              "  <script>\n",
              "    async function quickchart(key) {\n",
              "      const charts = await google.colab.kernel.invokeFunction(\n",
              "          'suggestCharts', [key], {});\n",
              "    }\n",
              "    (() => {\n",
              "      let quickchartButtonEl =\n",
              "        document.querySelector('#df-45459cf4-43d6-44c5-b514-81945a026ab9 button');\n",
              "      quickchartButtonEl.style.display =\n",
              "        google.colab.kernel.accessAllowed ? 'block' : 'none';\n",
              "    })();\n",
              "  </script>\n",
              "</div>\n",
              "    </div>\n",
              "  </div>\n"
            ],
            "text/plain": [
              "              Date                          Description  \\\n",
              "99945  18 Aug 2023  2 BEDROOM FLAT / APARTMENT FOR RENT   \n",
              "99946  22 Jun 2023             4 BEDROOM HOUSE FOR RENT   \n",
              "99947  16 Aug 2023             3 BEDROOM HOUSE FOR RENT   \n",
              "99948  15 Aug 2023             2 BEDROOM HOUSE FOR RENT   \n",
              "99949  22 Aug 2023             3 BEDROOM HOUSE FOR RENT   \n",
              "\n",
              "                                           Type               Location  \\\n",
              "99945                            2 Bedroom Flat   Alagomeji Yaba Lagos   \n",
              "99946  Luxury Serviced 4 Bedroom Terrace Duplex      Ikate Lekki Lagos   \n",
              "99947              Serviced 3 Bedroom Apartment  Victoria Island Lagos   \n",
              "99948              Serviced 2 Bedroom Apartment   Phase 1, Lekki Lagos   \n",
              "99949           Luxury 3 Bedroom Apartment + Bq  Victoria Island Lagos   \n",
              "\n",
              "      Number Of Bedrooms                Furnished Currency       Price  \n",
              "99945             2 beds  Furnished & Newly Built        ₦   2,500,000  \n",
              "99946             4 beds   Serviced & Newly Built        ₦   7,000,000  \n",
              "99947             3 beds   Serviced & Newly Built        ₦  15,000,000  \n",
              "99948             2 beds   Serviced & Newly Built        ₦   7,500,000  \n",
              "99949             3 beds   Serviced & Newly Built        ₦   8,000,000  "
            ]
          },
          "execution_count": 3,
          "metadata": {},
          "output_type": "execute_result"
        }
      ],
      "source": [
        "df= pd.DataFrame(listed_homes, columns= ['Date', 'Description', 'Type', 'Location', 'Number Of Bedrooms', 'Furnished', 'Currency','Price'])\n",
        "df.tail()"
      ]
    },
    {
      "cell_type": "code",
      "source": [
        "df.remove_duplicates()"
      ],
      "metadata": {
        "id": "z3HYL5elHis7"
      },
      "execution_count": null,
      "outputs": []
    },
    {
      "cell_type": "code",
      "execution_count": null,
      "metadata": {
        "colab": {
          "background_save": true
        },
        "id": "TisTCPj5qOyo"
      },
      "outputs": [],
      "source": [
        "df.to_csv('forecast_house_pro_Data.csv')"
      ]
    },
    {
      "cell_type": "code",
      "execution_count": null,
      "metadata": {
        "id": "ttsw529iqUPj",
        "colab": {
          "base_uri": "https://localhost:8080/"
        },
        "outputId": "461bea62-830b-4b9d-ec7a-0b4d6cb2f777"
      },
      "outputs": [
        {
          "output_type": "stream",
          "name": "stdout",
          "text": [
            "Drive already mounted at /content/drive; to attempt to forcibly remount, call drive.mount(\"/content/drive\", force_remount=True).\n"
          ]
        }
      ],
      "source": [
        "from google.colab import drive\n",
        "drive.mount('/content/drive')"
      ]
    },
    {
      "cell_type": "code",
      "execution_count": null,
      "metadata": {
        "id": "7yF2jJSwqW8o"
      },
      "outputs": [],
      "source": [
        "df= pd.read_csv('/content/forecast_house_pro_Data.csv')"
      ]
    },
    {
      "cell_type": "code",
      "execution_count": null,
      "metadata": {
        "id": "jounBs3PqbAY",
        "colab": {
          "base_uri": "https://localhost:8080/",
          "height": 310
        },
        "outputId": "abf0860e-2144-488a-f9fe-fbbe62f4fea1"
      },
      "outputs": [
        {
          "output_type": "execute_result",
          "data": {
            "text/plain": [
              "   Unnamed: 0         Date               Description  \\\n",
              "0           0  22 Jun 2023  2 BEDROOM HOUSE FOR RENT   \n",
              "1           1  24 Jun 2023  4 BEDROOM HOUSE FOR RENT   \n",
              "2           2  15 Aug 2023  4 BEDROOM HOUSE FOR RENT   \n",
              "3           3  23 Jun 2023  5 BEDROOM HOUSE FOR RENT   \n",
              "4           4  14 Jul 2023  4 BEDROOM HOUSE FOR RENT   \n",
              "\n",
              "                                            Type  \\\n",
              "0                        A Nice 2 Bedroom Duplex   \n",
              "1                        A Nice 4 Bedroom Duplex   \n",
              "2             Serviced 4 Bedroom Terraced Duplex   \n",
              "3       Luxury 5 Bedroom Detached Duplex With Bq   \n",
              "4  Luxury 4 Bedroom Semi Detached Duplex With Bq   \n",
              "\n",
              "                                          Location Number Of Bedrooms  \\\n",
              "0  Carlton Gate Estate, Akobo Gra Akobo Ibadan Oyo             2 beds   \n",
              "1                    Ikolaba Gra Bodija Ibadan Oyo             4 beds   \n",
              "2                                Ikota Lekki Lagos             4 beds   \n",
              "3                                Ikota Lekki Lagos             5 beds   \n",
              "4                        Lekki Phase 1 Lekki Lagos             4 beds   \n",
              "\n",
              "                Furnished Currency       Price  \n",
              "0                     NaN        ₦   1,800,000  \n",
              "1                     NaN        ₦   2,500,000  \n",
              "2  Serviced & Newly Built        ₦   3,500,000  \n",
              "3  Serviced & Newly Built        ₦   7,500,000  \n",
              "4  Serviced & Newly Built        ₦  12,000,000  "
            ],
            "text/html": [
              "\n",
              "  <div id=\"df-da45a744-3069-4e2a-928b-e4cd5848e36b\" class=\"colab-df-container\">\n",
              "    <div>\n",
              "<style scoped>\n",
              "    .dataframe tbody tr th:only-of-type {\n",
              "        vertical-align: middle;\n",
              "    }\n",
              "\n",
              "    .dataframe tbody tr th {\n",
              "        vertical-align: top;\n",
              "    }\n",
              "\n",
              "    .dataframe thead th {\n",
              "        text-align: right;\n",
              "    }\n",
              "</style>\n",
              "<table border=\"1\" class=\"dataframe\">\n",
              "  <thead>\n",
              "    <tr style=\"text-align: right;\">\n",
              "      <th></th>\n",
              "      <th>Unnamed: 0</th>\n",
              "      <th>Date</th>\n",
              "      <th>Description</th>\n",
              "      <th>Type</th>\n",
              "      <th>Location</th>\n",
              "      <th>Number Of Bedrooms</th>\n",
              "      <th>Furnished</th>\n",
              "      <th>Currency</th>\n",
              "      <th>Price</th>\n",
              "    </tr>\n",
              "  </thead>\n",
              "  <tbody>\n",
              "    <tr>\n",
              "      <th>0</th>\n",
              "      <td>0</td>\n",
              "      <td>22 Jun 2023</td>\n",
              "      <td>2 BEDROOM HOUSE FOR RENT</td>\n",
              "      <td>A Nice 2 Bedroom Duplex</td>\n",
              "      <td>Carlton Gate Estate, Akobo Gra Akobo Ibadan Oyo</td>\n",
              "      <td>2 beds</td>\n",
              "      <td>NaN</td>\n",
              "      <td>₦</td>\n",
              "      <td>1,800,000</td>\n",
              "    </tr>\n",
              "    <tr>\n",
              "      <th>1</th>\n",
              "      <td>1</td>\n",
              "      <td>24 Jun 2023</td>\n",
              "      <td>4 BEDROOM HOUSE FOR RENT</td>\n",
              "      <td>A Nice 4 Bedroom Duplex</td>\n",
              "      <td>Ikolaba Gra Bodija Ibadan Oyo</td>\n",
              "      <td>4 beds</td>\n",
              "      <td>NaN</td>\n",
              "      <td>₦</td>\n",
              "      <td>2,500,000</td>\n",
              "    </tr>\n",
              "    <tr>\n",
              "      <th>2</th>\n",
              "      <td>2</td>\n",
              "      <td>15 Aug 2023</td>\n",
              "      <td>4 BEDROOM HOUSE FOR RENT</td>\n",
              "      <td>Serviced 4 Bedroom Terraced Duplex</td>\n",
              "      <td>Ikota Lekki Lagos</td>\n",
              "      <td>4 beds</td>\n",
              "      <td>Serviced &amp; Newly Built</td>\n",
              "      <td>₦</td>\n",
              "      <td>3,500,000</td>\n",
              "    </tr>\n",
              "    <tr>\n",
              "      <th>3</th>\n",
              "      <td>3</td>\n",
              "      <td>23 Jun 2023</td>\n",
              "      <td>5 BEDROOM HOUSE FOR RENT</td>\n",
              "      <td>Luxury 5 Bedroom Detached Duplex With Bq</td>\n",
              "      <td>Ikota Lekki Lagos</td>\n",
              "      <td>5 beds</td>\n",
              "      <td>Serviced &amp; Newly Built</td>\n",
              "      <td>₦</td>\n",
              "      <td>7,500,000</td>\n",
              "    </tr>\n",
              "    <tr>\n",
              "      <th>4</th>\n",
              "      <td>4</td>\n",
              "      <td>14 Jul 2023</td>\n",
              "      <td>4 BEDROOM HOUSE FOR RENT</td>\n",
              "      <td>Luxury 4 Bedroom Semi Detached Duplex With Bq</td>\n",
              "      <td>Lekki Phase 1 Lekki Lagos</td>\n",
              "      <td>4 beds</td>\n",
              "      <td>Serviced &amp; Newly Built</td>\n",
              "      <td>₦</td>\n",
              "      <td>12,000,000</td>\n",
              "    </tr>\n",
              "  </tbody>\n",
              "</table>\n",
              "</div>\n",
              "    <div class=\"colab-df-buttons\">\n",
              "\n",
              "  <div class=\"colab-df-container\">\n",
              "    <button class=\"colab-df-convert\" onclick=\"convertToInteractive('df-da45a744-3069-4e2a-928b-e4cd5848e36b')\"\n",
              "            title=\"Convert this dataframe to an interactive table.\"\n",
              "            style=\"display:none;\">\n",
              "\n",
              "  <svg xmlns=\"http://www.w3.org/2000/svg\" height=\"24px\" viewBox=\"0 -960 960 960\">\n",
              "    <path d=\"M120-120v-720h720v720H120Zm60-500h600v-160H180v160Zm220 220h160v-160H400v160Zm0 220h160v-160H400v160ZM180-400h160v-160H180v160Zm440 0h160v-160H620v160ZM180-180h160v-160H180v160Zm440 0h160v-160H620v160Z\"/>\n",
              "  </svg>\n",
              "    </button>\n",
              "\n",
              "  <style>\n",
              "    .colab-df-container {\n",
              "      display:flex;\n",
              "      gap: 12px;\n",
              "    }\n",
              "\n",
              "    .colab-df-convert {\n",
              "      background-color: #E8F0FE;\n",
              "      border: none;\n",
              "      border-radius: 50%;\n",
              "      cursor: pointer;\n",
              "      display: none;\n",
              "      fill: #1967D2;\n",
              "      height: 32px;\n",
              "      padding: 0 0 0 0;\n",
              "      width: 32px;\n",
              "    }\n",
              "\n",
              "    .colab-df-convert:hover {\n",
              "      background-color: #E2EBFA;\n",
              "      box-shadow: 0px 1px 2px rgba(60, 64, 67, 0.3), 0px 1px 3px 1px rgba(60, 64, 67, 0.15);\n",
              "      fill: #174EA6;\n",
              "    }\n",
              "\n",
              "    .colab-df-buttons div {\n",
              "      margin-bottom: 4px;\n",
              "    }\n",
              "\n",
              "    [theme=dark] .colab-df-convert {\n",
              "      background-color: #3B4455;\n",
              "      fill: #D2E3FC;\n",
              "    }\n",
              "\n",
              "    [theme=dark] .colab-df-convert:hover {\n",
              "      background-color: #434B5C;\n",
              "      box-shadow: 0px 1px 3px 1px rgba(0, 0, 0, 0.15);\n",
              "      filter: drop-shadow(0px 1px 2px rgba(0, 0, 0, 0.3));\n",
              "      fill: #FFFFFF;\n",
              "    }\n",
              "  </style>\n",
              "\n",
              "    <script>\n",
              "      const buttonEl =\n",
              "        document.querySelector('#df-da45a744-3069-4e2a-928b-e4cd5848e36b button.colab-df-convert');\n",
              "      buttonEl.style.display =\n",
              "        google.colab.kernel.accessAllowed ? 'block' : 'none';\n",
              "\n",
              "      async function convertToInteractive(key) {\n",
              "        const element = document.querySelector('#df-da45a744-3069-4e2a-928b-e4cd5848e36b');\n",
              "        const dataTable =\n",
              "          await google.colab.kernel.invokeFunction('convertToInteractive',\n",
              "                                                    [key], {});\n",
              "        if (!dataTable) return;\n",
              "\n",
              "        const docLinkHtml = 'Like what you see? Visit the ' +\n",
              "          '<a target=\"_blank\" href=https://colab.research.google.com/notebooks/data_table.ipynb>data table notebook</a>'\n",
              "          + ' to learn more about interactive tables.';\n",
              "        element.innerHTML = '';\n",
              "        dataTable['output_type'] = 'display_data';\n",
              "        await google.colab.output.renderOutput(dataTable, element);\n",
              "        const docLink = document.createElement('div');\n",
              "        docLink.innerHTML = docLinkHtml;\n",
              "        element.appendChild(docLink);\n",
              "      }\n",
              "    </script>\n",
              "  </div>\n",
              "\n",
              "\n",
              "<div id=\"df-84cdb40b-6f3b-4343-91ff-6a2f31ac8582\">\n",
              "  <button class=\"colab-df-quickchart\" onclick=\"quickchart('df-84cdb40b-6f3b-4343-91ff-6a2f31ac8582')\"\n",
              "            title=\"Suggest charts.\"\n",
              "            style=\"display:none;\">\n",
              "\n",
              "<svg xmlns=\"http://www.w3.org/2000/svg\" height=\"24px\"viewBox=\"0 0 24 24\"\n",
              "     width=\"24px\">\n",
              "    <g>\n",
              "        <path d=\"M19 3H5c-1.1 0-2 .9-2 2v14c0 1.1.9 2 2 2h14c1.1 0 2-.9 2-2V5c0-1.1-.9-2-2-2zM9 17H7v-7h2v7zm4 0h-2V7h2v10zm4 0h-2v-4h2v4z\"/>\n",
              "    </g>\n",
              "</svg>\n",
              "  </button>\n",
              "\n",
              "<style>\n",
              "  .colab-df-quickchart {\n",
              "    background-color: #E8F0FE;\n",
              "    border: none;\n",
              "    border-radius: 50%;\n",
              "    cursor: pointer;\n",
              "    display: none;\n",
              "    fill: #1967D2;\n",
              "    height: 32px;\n",
              "    padding: 0 0 0 0;\n",
              "    width: 32px;\n",
              "  }\n",
              "\n",
              "  .colab-df-quickchart:hover {\n",
              "    background-color: #E2EBFA;\n",
              "    box-shadow: 0px 1px 2px rgba(60, 64, 67, 0.3), 0px 1px 3px 1px rgba(60, 64, 67, 0.15);\n",
              "    fill: #174EA6;\n",
              "  }\n",
              "\n",
              "  [theme=dark] .colab-df-quickchart {\n",
              "    background-color: #3B4455;\n",
              "    fill: #D2E3FC;\n",
              "  }\n",
              "\n",
              "  [theme=dark] .colab-df-quickchart:hover {\n",
              "    background-color: #434B5C;\n",
              "    box-shadow: 0px 1px 3px 1px rgba(0, 0, 0, 0.15);\n",
              "    filter: drop-shadow(0px 1px 2px rgba(0, 0, 0, 0.3));\n",
              "    fill: #FFFFFF;\n",
              "  }\n",
              "</style>\n",
              "\n",
              "  <script>\n",
              "    async function quickchart(key) {\n",
              "      const charts = await google.colab.kernel.invokeFunction(\n",
              "          'suggestCharts', [key], {});\n",
              "    }\n",
              "    (() => {\n",
              "      let quickchartButtonEl =\n",
              "        document.querySelector('#df-84cdb40b-6f3b-4343-91ff-6a2f31ac8582 button');\n",
              "      quickchartButtonEl.style.display =\n",
              "        google.colab.kernel.accessAllowed ? 'block' : 'none';\n",
              "    })();\n",
              "  </script>\n",
              "</div>\n",
              "    </div>\n",
              "  </div>\n"
            ]
          },
          "metadata": {},
          "execution_count": 62
        }
      ],
      "source": [
        "df.head()"
      ]
    },
    {
      "cell_type": "code",
      "execution_count": null,
      "metadata": {
        "id": "gql_YmxdqeYQ",
        "colab": {
          "base_uri": "https://localhost:8080/"
        },
        "outputId": "190e1db5-07ba-496b-a8c9-f9b2e2c9382d"
      },
      "outputs": [
        {
          "output_type": "execute_result",
          "data": {
            "text/plain": [
              "Unnamed: 0               0\n",
              "Date                     0\n",
              "Description              0\n",
              "Type                     0\n",
              "Location                 0\n",
              "Number Of Bedrooms       0\n",
              "Furnished             7996\n",
              "Currency                 0\n",
              "Price                    0\n",
              "dtype: int64"
            ]
          },
          "metadata": {},
          "execution_count": 63
        }
      ],
      "source": [
        "df.isnull().sum()"
      ]
    },
    {
      "cell_type": "code",
      "execution_count": null,
      "metadata": {
        "id": "l4oh95LJqitQ"
      },
      "outputs": [],
      "source": [
        "df['Date'] = pd.to_datetime(df['Date'])"
      ]
    },
    {
      "cell_type": "code",
      "execution_count": null,
      "metadata": {
        "id": "I_kvP5tNqlT8"
      },
      "outputs": [],
      "source": [
        "df['Price'] = df['Price'].astype(str).str.replace(',', '')"
      ]
    },
    {
      "cell_type": "code",
      "execution_count": null,
      "metadata": {
        "id": "Bx4gw9SfqniB"
      },
      "outputs": [],
      "source": [
        "df['Price'] = df['Price'].astype(int)"
      ]
    },
    {
      "cell_type": "code",
      "execution_count": null,
      "metadata": {
        "id": "BlPY_LLtqx79"
      },
      "outputs": [],
      "source": [
        "for index, row in df.iterrows():\n",
        "  if '$' in row['Currency']:\n",
        "    dol_to_naira = 775.50 * int(row['Price'])\n",
        "    df.loc[index, 'Price'] = dol_to_naira"
      ]
    },
    {
      "cell_type": "code",
      "execution_count": null,
      "metadata": {
        "id": "o9GOK0leqx2g",
        "colab": {
          "base_uri": "https://localhost:8080/"
        },
        "outputId": "8deba063-ae2b-4499-cbe3-13507b4cb674"
      },
      "outputs": [
        {
          "output_type": "execute_result",
          "data": {
            "text/plain": [
              "array(['₦'], dtype=object)"
            ]
          },
          "metadata": {},
          "execution_count": 68
        }
      ],
      "source": [
        "df['Currency'].unique()"
      ]
    },
    {
      "cell_type": "code",
      "execution_count": null,
      "metadata": {
        "id": "5K0W6jMoqxzJ"
      },
      "outputs": [],
      "source": [
        "df['Type']= df['Type'].str.lower()"
      ]
    },
    {
      "cell_type": "code",
      "execution_count": null,
      "metadata": {
        "id": "9jQipleCqxwV"
      },
      "outputs": [],
      "source": [
        "for index, row in df.iterrows():\n",
        "  if 'office' in row['Type'] or 'commercial' in row['Type'] or 'shop' in row['Type']:\n",
        "    df.drop(index, inplace=True)"
      ]
    },
    {
      "cell_type": "code",
      "execution_count": null,
      "metadata": {
        "id": "P9n9k5wNqxqM"
      },
      "outputs": [],
      "source": [
        "# property_type = ['mini flat', 'flat', 'terrace duplex', 'apartment', 'semi detached duplex', 'detached duplex']\n",
        "\n",
        "def clean_type(x):\n",
        "    if 'terraces duplex' in x or 'terraced duplex' in x or 'terrace duplex' in x or 'terrace' in x:\n",
        "      return 'terrace duplex'\n",
        "    elif 'mini flat' in x or 'room and parlor' in x:\n",
        "      return 'mini flat'\n",
        "    elif 'flat' in x or 'flats' in x:\n",
        "      return 'flat'\n",
        "    elif 'self contain' in x or 'self con' in x:\n",
        "      return 'self contain'\n",
        "    elif 'apartment' in x and not 'shared' in x:\n",
        "      return 'flat'\n",
        "    elif 'shared' in x and 'apartment' in x:\n",
        "      return 'shared apartment'\n",
        "    elif 'maisonette' in x or 'massionette' in x:\n",
        "      return 'maisonette'\n",
        "    elif 'semi' in x and 'detached ' in x:\n",
        "      return 'semi detached duplex'\n",
        "    elif 'detached' in x and not 'semi' in x:\n",
        "      return 'detached duplex'\n",
        "    elif 'penthouse' in x:\n",
        "      return 'penthouse'\n",
        "    elif 'mansion' in x:\n",
        "      return 'mansion'\n",
        "    elif 'bungalow' in x:\n",
        "      return 'bungalow'\n",
        "    elif 'bedroom duplex' in x:\n",
        "      return 'duplex'\n",
        "    else:\n",
        "      return x\n",
        "\n",
        "\n",
        "df['Property_type']= df['Type'].map(clean_type)"
      ]
    },
    {
      "cell_type": "code",
      "execution_count": null,
      "metadata": {
        "id": "vmysmTihqxlv",
        "colab": {
          "base_uri": "https://localhost:8080/"
        },
        "outputId": "900e48f2-83b5-4d05-a2b4-fb9236a5defe"
      },
      "outputs": [
        {
          "output_type": "execute_result",
          "data": {
            "text/plain": [
              "array(['duplex', 'terrace duplex', 'detached duplex',\n",
              "       'semi detached duplex', 'flat', 'penthouse', 'maisonette',\n",
              "       'mini flat', 'self contain', '6,663 sqm land'], dtype=object)"
            ]
          },
          "metadata": {},
          "execution_count": 72
        }
      ],
      "source": [
        "df['Property_type'].unique()"
      ]
    },
    {
      "cell_type": "code",
      "execution_count": null,
      "metadata": {
        "id": "K8rBuAUEqxaj",
        "colab": {
          "base_uri": "https://localhost:8080/"
        },
        "outputId": "83f90b33-f1a5-411b-f92b-60e686624319"
      },
      "outputs": [
        {
          "output_type": "stream",
          "name": "stdout",
          "text": [
            "1999\n"
          ]
        }
      ],
      "source": [
        "pent = 0\n",
        "for index, row in df.iterrows():\n",
        "  if 'penthouse' in row['Type']:\n",
        "    pent+=1\n",
        "print(pent)"
      ]
    },
    {
      "cell_type": "code",
      "execution_count": null,
      "metadata": {
        "id": "78ZzSgQVqxWA",
        "colab": {
          "base_uri": "https://localhost:8080/"
        },
        "outputId": "b7dc13a6-34a5-4de9-c6ac-a56dd0147b3a"
      },
      "outputs": [
        {
          "output_type": "stream",
          "name": "stdout",
          "text": [
            "27986\n"
          ]
        }
      ],
      "source": [
        "terrace = 0\n",
        "for index, row in df.iterrows():\n",
        "  if 'terrace' in row['Type'] or 'terraces' in row['Type'] or 'terraced' in row['Type']:\n",
        "    terrace+=1\n",
        "print(terrace)"
      ]
    },
    {
      "cell_type": "code",
      "execution_count": null,
      "metadata": {
        "id": "nwPellDerWAR",
        "colab": {
          "base_uri": "https://localhost:8080/"
        },
        "outputId": "7ee86b71-2fc8-4e6f-fba5-9ea3648177d8"
      },
      "outputs": [
        {
          "output_type": "stream",
          "name": "stdout",
          "text": [
            "7996\n"
          ]
        }
      ],
      "source": [
        "detached = 0\n",
        "for index, row in df.iterrows():\n",
        "  if 'semi' in row['Type']:\n",
        "    detached+=1\n",
        "print(detached)"
      ]
    },
    {
      "cell_type": "code",
      "execution_count": null,
      "metadata": {
        "id": "eCh8vlnNrV8H",
        "colab": {
          "base_uri": "https://localhost:8080/"
        },
        "outputId": "6df40406-f4bc-46a2-9504-46c0c12ebb13"
      },
      "outputs": [
        {
          "output_type": "stream",
          "name": "stdout",
          "text": [
            "20194\n"
          ]
        }
      ],
      "source": [
        "detached_ = 0\n",
        "for index, row in df.iterrows():\n",
        "  if 'detached' in row['Type']:\n",
        "    detached_+=1\n",
        "print(detached_)"
      ]
    },
    {
      "cell_type": "code",
      "execution_count": null,
      "metadata": {
        "id": "8NoeqaTdrV4K"
      },
      "outputs": [],
      "source": [
        "for index, row in df.iterrows():\n",
        "  if 'haap coliving furnished bq for monthly stay' in row['Property_type']:\n",
        "    df.drop(index, inplace=True)"
      ]
    },
    {
      "cell_type": "code",
      "execution_count": null,
      "metadata": {
        "id": "GXTMBVdsrV0R",
        "colab": {
          "base_uri": "https://localhost:8080/"
        },
        "outputId": "1745833c-9f1c-49ae-dadb-b5c874bdc3c8"
      },
      "outputs": [
        {
          "output_type": "stream",
          "name": "stdout",
          "text": [
            "3998\n"
          ]
        }
      ],
      "source": [
        "self_=0\n",
        "\n",
        "for index, row in df.iterrows():\n",
        "  if 'self contain' in row['Type'] or 'self con' in row['Type']:\n",
        "    self_+=1\n",
        "print(self_)"
      ]
    },
    {
      "cell_type": "code",
      "execution_count": null,
      "metadata": {
        "id": "5VWZwuIIrVwl"
      },
      "outputs": [],
      "source": [
        "ware = 0\n",
        "\n",
        "for index, row in df.iterrows():\n",
        "  if 'warehouse' in row['Type']:\n",
        "    df.drop(index, inplace=True)"
      ]
    },
    {
      "cell_type": "code",
      "execution_count": null,
      "metadata": {
        "id": "gePgtVjOrVs0"
      },
      "outputs": [],
      "source": [
        "for index, row in df.iterrows():\n",
        "  if '1 room (sharing kitchen with just a single occupant)' in row['Type']:\n",
        "    df.drop(index, inplace=True)"
      ]
    },
    {
      "cell_type": "code",
      "execution_count": null,
      "metadata": {
        "id": "Rwo-cCyIwYMV"
      },
      "outputs": [],
      "source": [
        "for index, row in df.iterrows():\n",
        "  if 'newly built self con for rent' in row['Property_type']:\n",
        "    df.loc[index, 'Property_type'] = 'studio apartment'\n",
        "    # print(row)\n"
      ]
    },
    {
      "cell_type": "code",
      "execution_count": null,
      "metadata": {
        "id": "6YQrV4tpxHnB"
      },
      "outputs": [],
      "source": [
        "for index, row in df.iterrows():\n",
        "  if 'sqm land' in row['Property_type']:\n",
        "    df.drop(index, inplace=True)"
      ]
    },
    {
      "cell_type": "code",
      "execution_count": null,
      "metadata": {
        "id": "PodzDVh2rVo0",
        "colab": {
          "base_uri": "https://localhost:8080/"
        },
        "outputId": "76ce6733-426c-4684-ca79-56ffe9a1cead"
      },
      "outputs": [
        {
          "output_type": "stream",
          "name": "stdout",
          "text": [
            "0\n"
          ]
        }
      ],
      "source": [
        "share_=0\n",
        "\n",
        "for index, row in df.iterrows():\n",
        "  if 'shared apartment' in row['Type']:\n",
        "    share_+=1\n",
        "print(share_)"
      ]
    },
    {
      "cell_type": "code",
      "execution_count": null,
      "metadata": {
        "id": "6BR-7OqxrVlB",
        "colab": {
          "base_uri": "https://localhost:8080/"
        },
        "outputId": "ca081f75-7400-464e-8176-ddbc7f822f8a"
      },
      "outputs": [
        {
          "output_type": "execute_result",
          "data": {
            "text/plain": [
              "flat                    33779\n",
              "terrace duplex          27986\n",
              "detached duplex         12198\n",
              "semi detached duplex     7996\n",
              "duplex                   3998\n",
              "maisonette               3998\n",
              "mini flat                3998\n",
              "penthouse                1999\n",
              "self contain             1999\n",
              "Name: Property_type, dtype: int64"
            ]
          },
          "metadata": {},
          "execution_count": 84
        }
      ],
      "source": [
        "df['Property_type'].value_counts()"
      ]
    },
    {
      "cell_type": "code",
      "execution_count": null,
      "metadata": {
        "id": "b9bQqQQvrVhC",
        "colab": {
          "base_uri": "https://localhost:8080/",
          "height": 1000
        },
        "outputId": "7193b17a-de9e-4332-9757-d18b7d218acf"
      },
      "outputs": [
        {
          "output_type": "display_data",
          "data": {
            "text/plain": [
              "<Figure size 1800x1200 with 1 Axes>"
            ],
            "image/png": "[encoded data removed]"
          },
          "metadata": {}
        }
      ],
      "source": [
        "plt.figure(figsize=(18,12))\n",
        "\n",
        "property_val= df['Property_type'].value_counts()\n",
        "\n",
        "# Create a bar plot\n",
        "plt.bar(property_val.index, property_val.values)\n",
        "\n",
        "# Set plot title and labels\n",
        "plt.title('Count of Property Types')\n",
        "plt.xlabel('Property Types')\n",
        "plt.ylabel('Count')\n",
        "plt.tight_layout()\n",
        "plt.xticks(rotation=90)\n",
        "\n",
        "# Show the plot\n",
        "plt.show()"
      ]
    },
    {
      "cell_type": "code",
      "execution_count": null,
      "metadata": {
        "id": "-GyN-oJv82Hi",
        "colab": {
          "base_uri": "https://localhost:8080/"
        },
        "outputId": "50ba32b3-e0a6-44c3-9b51-05c1e473cf68"
      },
      "outputs": [
        {
          "output_type": "execute_result",
          "data": {
            "text/plain": [
              "array(['2 beds', '4 beds', '5 beds', '1 beds', '3 beds'], dtype=object)"
            ]
          },
          "metadata": {},
          "execution_count": 86
        }
      ],
      "source": [
        "df['Number Of Bedrooms'].unique()"
      ]
    },
    {
      "cell_type": "code",
      "execution_count": null,
      "metadata": {
        "id": "x8hXJtJb82Dz"
      },
      "outputs": [],
      "source": [
        "# bed_ = 0\n",
        "for index, row in df.iterrows():\n",
        "  df_bed = str(row['Number Of Bedrooms'])\n",
        "  match_ = re.search(r'^\\d', df_bed)\n",
        "  beds= 0 if match_ == None else match_.group(0)\n",
        "  df.loc[index, 'Number Of Bedrooms'] = beds\n",
        "  # print(beds)"
      ]
    },
    {
      "cell_type": "code",
      "execution_count": null,
      "metadata": {
        "id": "-MLLt_4H82A4",
        "colab": {
          "base_uri": "https://localhost:8080/"
        },
        "outputId": "68772f19-e869-4c50-9a32-8a79c35df5ed"
      },
      "outputs": [
        {
          "output_type": "execute_result",
          "data": {
            "text/plain": [
              "array(['2', '4', '5', '1', '3'], dtype=object)"
            ]
          },
          "metadata": {},
          "execution_count": 88
        }
      ],
      "source": [
        "df['Number Of Bedrooms'].unique()"
      ]
    },
    {
      "cell_type": "code",
      "execution_count": null,
      "metadata": {
        "id": "Aq8fbrta81-A"
      },
      "outputs": [],
      "source": [
        "df[\"Number Of Bedrooms\"]= df['Number Of Bedrooms'].astype(int)"
      ]
    },
    {
      "cell_type": "code",
      "execution_count": null,
      "metadata": {
        "id": "q8zb4I15816z",
        "colab": {
          "base_uri": "https://localhost:8080/"
        },
        "outputId": "63e1c973-2852-45af-9369-ea909c9e575f"
      },
      "outputs": [
        {
          "output_type": "execute_result",
          "data": {
            "text/plain": [
              "Unnamed: 0                     int64\n",
              "Date                  datetime64[ns]\n",
              "Description                   object\n",
              "Type                          object\n",
              "Location                      object\n",
              "Number Of Bedrooms             int64\n",
              "Furnished                     object\n",
              "Currency                      object\n",
              "Price                          int64\n",
              "Property_type                 object\n",
              "dtype: object"
            ]
          },
          "metadata": {},
          "execution_count": 90
        }
      ],
      "source": [
        "df.dtypes"
      ]
    },
    {
      "cell_type": "code",
      "execution_count": null,
      "metadata": {
        "id": "ZKcnC1fe813o",
        "colab": {
          "base_uri": "https://localhost:8080/"
        },
        "outputId": "3a28ab4c-80aa-45eb-bef9-4cf129c33b90"
      },
      "outputs": [
        {
          "output_type": "execute_result",
          "data": {
            "text/plain": [
              "array([nan, 'Serviced & Newly Built', 'Serviced', 'Newly Built',\n",
              "       'Furnished & Newly Built'], dtype=object)"
            ]
          },
          "metadata": {},
          "execution_count": 91
        }
      ],
      "source": [
        "df['Furnished'].unique()"
      ]
    },
    {
      "cell_type": "code",
      "execution_count": null,
      "metadata": {
        "id": "qWHtzFp-810v"
      },
      "outputs": [],
      "source": [
        "# replace nan values with non-furnished\n",
        "\n",
        "df['Furnished'].fillna('Non-Furnished', inplace=True)"
      ]
    },
    {
      "cell_type": "code",
      "execution_count": null,
      "metadata": {
        "id": "ANiZDVzg81xn",
        "colab": {
          "base_uri": "https://localhost:8080/"
        },
        "outputId": "d4270a2b-7c43-44b9-fb24-395f425adca4"
      },
      "outputs": [
        {
          "output_type": "execute_result",
          "data": {
            "text/plain": [
              "array(['Non-Furnished', 'Serviced & Newly Built', 'Serviced',\n",
              "       'Newly Built', 'Furnished & Newly Built'], dtype=object)"
            ]
          },
          "metadata": {},
          "execution_count": 93
        }
      ],
      "source": [
        "df['Furnished'].unique()"
      ]
    },
    {
      "cell_type": "code",
      "execution_count": null,
      "metadata": {
        "id": "Wteo1SvM81uY",
        "colab": {
          "base_uri": "https://localhost:8080/",
          "height": 1000
        },
        "outputId": "3c8178a0-ee09-445a-c0eb-728816aee250"
      },
      "outputs": [
        {
          "output_type": "display_data",
          "data": {
            "text/plain": [
              "<Figure size 1800x1200 with 1 Axes>"
            ],
            "image/png": "[encoded data removed]"
          },
          "metadata": {}
        }
      ],
      "source": [
        "# Calculate average price for each type of furnishing\n",
        "\n",
        "plt.figure(figsize=(18,12))\n",
        "average_prices = df.groupby('Furnished')['Price'].mean()\n",
        "\n",
        "# Create a bar plot\n",
        "plt.bar(average_prices.index, average_prices.values)\n",
        "\n",
        "# Set plot title and labels\n",
        "plt.title('Average Price by Furnish Type')\n",
        "plt.xlabel('Furnish Types')\n",
        "plt.ylabel('Average Price')\n",
        "\n",
        "# Show the plot\n",
        "plt.show()"
      ]
    },
    {
      "cell_type": "code",
      "execution_count": null,
      "metadata": {
        "id": "rtdVPJ0-81rC",
        "colab": {
          "base_uri": "https://localhost:8080/"
        },
        "outputId": "ce504cf3-05d5-4e8e-bec1-0c11b6c7b8e9"
      },
      "outputs": [
        {
          "output_type": "execute_result",
          "data": {
            "text/plain": [
              "array(['Carlton Gate Estate, Akobo Gra Akobo Ibadan Oyo',\n",
              "       'Ikolaba Gra Bodija Ibadan Oyo', 'Ikota Lekki Lagos',\n",
              "       'Lekki Phase 1 Lekki Lagos', 'Ikate Lekki Lagos',\n",
              "       'Chevron Toll Gate Orchid Road, Chevron Lekki Lagos',\n",
              "       'Phase 1, Lekki Lagos', 'Chevron Lekki Lagos',\n",
              "       'Chevron Toll Gate, Chevron Lekki Lagos', 'Ologolo Lekki Lagos',\n",
              "       'Toll Gate Orchid Road Chevron Lekki Lagos',\n",
              "       'Osapa London Lekki Lagos', 'Jahi Abuja', 'Ajah Lagos',\n",
              "       'Chevron Toll Gate, Lekki Lagos', 'Lekki Lagos',\n",
              "       'Chevron Toll Gate, Orchid Road, Chevron Lekki Lagos',\n",
              "       '10 Seed School, Off Gbangbala Street, Ikate Lekki Lagos',\n",
              "       'Oniru Victoria Island Lagos', 'Parkview Estate Ikoyi Lagos',\n",
              "       '10 Seed School, Off Gbangbala Street, Elegushi Ikate Lekki Lagos',\n",
              "       'Alagomeji Yaba Lagos', 'Iwaya Yaba Lagos',\n",
              "       'Victoria Island Lagos', 'Kolapo Ishola Gra Akobo Ibadan Oyo'],\n",
              "      dtype=object)"
            ]
          },
          "metadata": {},
          "execution_count": 95
        }
      ],
      "source": [
        "df['Location'].unique()"
      ]
    },
    {
      "cell_type": "code",
      "execution_count": null,
      "metadata": {
        "id": "G85TQPN781n2"
      },
      "outputs": [],
      "source": [
        "\n",
        "location_list = ['Chevron', 'Ikate', 'Maruwa','Ikota', 'Orchid',  'Igbo Efon', 'Ologolo',\n",
        "                'Osapa London', 'Agungi', 'Nicon', 'Salem', 'Ikate-Elegushi', 'Ajah', 'Thomas Estate', 'Phase 1', 'Osapa london'\n",
        "                'Olokonla', 'Abijo', 'Lafiaji', 'Sangotedo', 'Idado', 'Elf',\n",
        "                'Mobil','VGC', 'Vgc','Victoria Island', 'Bodije', 'Ikeja', 'Yaba',\n",
        "                 'Ibeju', 'Ikoyi', 'Ikorodu', 'Lokogoma', 'Jabi', 'Wumba',\n",
        "                 'Ogba', 'Surulere', 'Shomolu', 'Kaura', 'Ketu', 'Garki 1', 'Galadimawa', 'Garki 2',\n",
        "                 'Maryland', 'Agege', 'Gbagada', 'Magodo', 'Merian', 'Onikolobo', 'Akala', 'Oluyole', 'Asaye', 'Iju',\n",
        "                 'Gwarinpa', 'Amuwo Odofin', 'Egbeda', 'Wuse 2', 'Wuye', 'Ilasan', 'Ajah', 'Iyanganku', 'Bodija', 'Samonda', 'Akobo', 'Maitama', 'Guzape',\n",
        "                 'Asokoro', 'Jabi', 'Ojodu', 'Ipaja', 'Bariga', 'Elegushi', 'Ogudu', 'Apete', 'Toll Gate', 'Apo', 'Agodi', 'Oke Afa', 'Ajao Estate', 'Awoyaya', 'Jahi']\n",
        "\n",
        "for index, row in df.iterrows():\n",
        "  for loc_ in location_list:\n",
        "    if loc_ in row['Location']:\n",
        "      df.loc[index, 'Loc'] = loc_\n",
        "\n"
      ]
    },
    {
      "cell_type": "code",
      "execution_count": null,
      "metadata": {
        "id": "kk8o1tgwCaQJ",
        "colab": {
          "base_uri": "https://localhost:8080/"
        },
        "outputId": "07938451-78b3-4e81-a661-50e21af1771f"
      },
      "outputs": [
        {
          "output_type": "execute_result",
          "data": {
            "text/plain": [
              "array(['Akobo', 'Bodija', 'Ikota', 'Phase 1', 'Ikate', 'Toll Gate',\n",
              "       'Chevron', 'Ologolo', 'Osapa London', 'Jahi', 'Ajah', nan,\n",
              "       'Victoria Island', 'Ikoyi', 'Elegushi', 'Yaba'], dtype=object)"
            ]
          },
          "metadata": {},
          "execution_count": 97
        }
      ],
      "source": [
        "df['Loc'].unique()"
      ]
    },
    {
      "cell_type": "code",
      "execution_count": null,
      "metadata": {
        "id": "XguDEBNNQcHB",
        "colab": {
          "base_uri": "https://localhost:8080/"
        },
        "outputId": "1d7354b5-d472-4e68-f777-31e143e2b039"
      },
      "outputs": [
        {
          "output_type": "execute_result",
          "data": {
            "text/plain": [
              "Toll Gate          17991\n",
              "Phase 1            15992\n",
              "Ikate              13993\n",
              "Victoria Island     9542\n",
              "Chevron             8200\n",
              "Yaba                5997\n",
              "Ikota               3998\n",
              "Ologolo             3998\n",
              "Osapa London        3998\n",
              "Akobo               2248\n",
              "Bodija              1999\n",
              "Jahi                1999\n",
              "Ajah                1999\n",
              "Ikoyi               1999\n",
              "Elegushi            1999\n",
              "Name: Loc, dtype: int64"
            ]
          },
          "metadata": {},
          "execution_count": 98
        }
      ],
      "source": [
        "df['Loc'].value_counts()"
      ]
    },
    {
      "cell_type": "code",
      "source": [
        "for index, row in df.iterrows():\n",
        "  if 'Lekki Lagos' == row['Location']:\n",
        "    df.loc[index, 'Loc'] = 'Lekki'"
      ],
      "metadata": {
        "id": "jnUvLsEPD5Ie"
      },
      "execution_count": null,
      "outputs": []
    },
    {
      "cell_type": "code",
      "execution_count": null,
      "metadata": {
        "id": "fFERGUg-APaA",
        "colab": {
          "base_uri": "https://localhost:8080/"
        },
        "outputId": "17124f56-1ff5-433b-ec62-c6267ea935ab"
      },
      "outputs": [
        {
          "output_type": "execute_result",
          "data": {
            "text/plain": [
              "0"
            ]
          },
          "metadata": {},
          "execution_count": 100
        }
      ],
      "source": [
        "df['Loc'].isnull().sum()"
      ]
    },
    {
      "cell_type": "code",
      "source": [
        "# rows_with_null = df[df['Loc'].isnull()]\n",
        "\n",
        "# print(rows_with_null)\n"
      ],
      "metadata": {
        "id": "ZHamUkfuCPYs"
      },
      "execution_count": null,
      "outputs": []
    },
    {
      "cell_type": "code",
      "execution_count": null,
      "metadata": {
        "id": "bkwY1FPoA54W"
      },
      "outputs": [],
      "source": [
        "for index, row in df.iterrows():\n",
        "  if 'Toll Gate' in row['Loc'] and 'Orchid' in row['Location']:\n",
        "    df.loc[index, 'Loc'] = 'Orchid'\n",
        "    # print(toll_split)"
      ]
    },
    {
      "cell_type": "code",
      "execution_count": null,
      "metadata": {
        "id": "THbON6o6xKsr"
      },
      "outputs": [],
      "source": [
        "for index, row in df.iterrows():\n",
        "  if 'Toll Gate' in row['Loc'] and 'Orchid' not in row['Location']:\n",
        "    toll_split = row['Location'].split(\" \")\n",
        "    df.loc[index, 'Loc'] = 'Chevron'"
      ]
    },
    {
      "cell_type": "code",
      "execution_count": null,
      "metadata": {
        "id": "NJa35OhKVnXq"
      },
      "outputs": [],
      "source": [
        "for index, row in df.iterrows():\n",
        "  if 'Yaba' in row['Loc']:\n",
        "    yaba_split = row['Location'].split(\" \")[0]\n",
        "    df.loc[index, 'Loc'] = yaba_split\n",
        "    # print(yaba_split)"
      ]
    },
    {
      "cell_type": "code",
      "execution_count": null,
      "metadata": {
        "id": "KzQ2woI7WjHQ"
      },
      "outputs": [],
      "source": [
        "for index, row in df.iterrows():\n",
        "  if 'Phase 1' in row['Loc']:\n",
        "    df.loc[index, 'Loc'] = 'Phase 1, Lekki'"
      ]
    },
    {
      "cell_type": "code",
      "execution_count": null,
      "metadata": {
        "id": "bHrGa-PmWvMV"
      },
      "outputs": [],
      "source": [
        "for index, row in df.iterrows():\n",
        "  if 'Ikate' in row['Loc']:\n",
        "    df.loc[index, 'Loc'] = 'Ikate Lekki'"
      ]
    },
    {
      "cell_type": "code",
      "execution_count": null,
      "metadata": {
        "id": "UnD3iynp6qWw",
        "colab": {
          "base_uri": "https://localhost:8080/"
        },
        "outputId": "f1360c6a-d04e-460d-e50f-1f3d97b08932"
      },
      "outputs": [
        {
          "output_type": "execute_result",
          "data": {
            "text/plain": [
              "Chevron            18195\n",
              "Phase 1, Lekki     15992\n",
              "Ikate Lekki        13993\n",
              "Victoria Island     9542\n",
              "Orchid              7996\n",
              "Osapa London        3998\n",
              "Ikota               3998\n",
              "Ologolo             3998\n",
              "Alagomeji           3998\n",
              "Akobo               2248\n",
              "Ajah                1999\n",
              "Lekki               1999\n",
              "Jahi                1999\n",
              "Ikoyi               1999\n",
              "Elegushi            1999\n",
              "Bodija              1999\n",
              "Iwaya               1999\n",
              "Name: Loc, dtype: int64"
            ]
          },
          "metadata": {},
          "execution_count": 107
        }
      ],
      "source": [
        "df['Loc'].value_counts()"
      ]
    },
    {
      "cell_type": "code",
      "execution_count": null,
      "metadata": {
        "id": "EdrTiJ_J5uF7",
        "colab": {
          "base_uri": "https://localhost:8080/"
        },
        "outputId": "ab04bb12-e1b9-4041-b33a-e97ffab65303"
      },
      "outputs": [
        {
          "output_type": "execute_result",
          "data": {
            "text/plain": [
              "0"
            ]
          },
          "metadata": {},
          "execution_count": 108
        }
      ],
      "source": [
        "df['Loc'].isnull().sum()"
      ]
    },
    {
      "cell_type": "code",
      "execution_count": null,
      "metadata": {
        "id": "zcceGbmc-F06",
        "colab": {
          "base_uri": "https://localhost:8080/",
          "height": 310
        },
        "outputId": "23006a4c-b110-4a0c-a3a5-95c26e394da0"
      },
      "outputs": [
        {
          "output_type": "execute_result",
          "data": {
            "text/plain": [
              "   Unnamed: 0       Date               Description  \\\n",
              "0           0 2023-06-22  2 BEDROOM HOUSE FOR RENT   \n",
              "1           1 2023-06-24  4 BEDROOM HOUSE FOR RENT   \n",
              "2           2 2023-08-15  4 BEDROOM HOUSE FOR RENT   \n",
              "3           3 2023-06-23  5 BEDROOM HOUSE FOR RENT   \n",
              "4           4 2023-07-14  4 BEDROOM HOUSE FOR RENT   \n",
              "\n",
              "                                            Type  \\\n",
              "0                        a nice 2 bedroom duplex   \n",
              "1                        a nice 4 bedroom duplex   \n",
              "2             serviced 4 bedroom terraced duplex   \n",
              "3       luxury 5 bedroom detached duplex with bq   \n",
              "4  luxury 4 bedroom semi detached duplex with bq   \n",
              "\n",
              "                                          Location  Number Of Bedrooms  \\\n",
              "0  Carlton Gate Estate, Akobo Gra Akobo Ibadan Oyo                   2   \n",
              "1                    Ikolaba Gra Bodija Ibadan Oyo                   4   \n",
              "2                                Ikota Lekki Lagos                   4   \n",
              "3                                Ikota Lekki Lagos                   5   \n",
              "4                        Lekki Phase 1 Lekki Lagos                   4   \n",
              "\n",
              "                Furnished Currency     Price         Property_type  \\\n",
              "0           Non-Furnished        ₦   1800000                duplex   \n",
              "1           Non-Furnished        ₦   2500000                duplex   \n",
              "2  Serviced & Newly Built        ₦   3500000        terrace duplex   \n",
              "3  Serviced & Newly Built        ₦   7500000       detached duplex   \n",
              "4  Serviced & Newly Built        ₦  12000000  semi detached duplex   \n",
              "\n",
              "              Loc  \n",
              "0           Akobo  \n",
              "1          Bodija  \n",
              "2           Ikota  \n",
              "3           Ikota  \n",
              "4  Phase 1, Lekki  "
            ],
            "text/html": [
              "\n",
              "  <div id=\"df-0c98aca3-3724-4ad2-a749-15c2029e2ef4\" class=\"colab-df-container\">\n",
              "    <div>\n",
              "<style scoped>\n",
              "    .dataframe tbody tr th:only-of-type {\n",
              "        vertical-align: middle;\n",
              "    }\n",
              "\n",
              "    .dataframe tbody tr th {\n",
              "        vertical-align: top;\n",
              "    }\n",
              "\n",
              "    .dataframe thead th {\n",
              "        text-align: right;\n",
              "    }\n",
              "</style>\n",
              "<table border=\"1\" class=\"dataframe\">\n",
              "  <thead>\n",
              "    <tr style=\"text-align: right;\">\n",
              "      <th></th>\n",
              "      <th>Unnamed: 0</th>\n",
              "      <th>Date</th>\n",
              "      <th>Description</th>\n",
              "      <th>Type</th>\n",
              "      <th>Location</th>\n",
              "      <th>Number Of Bedrooms</th>\n",
              "      <th>Furnished</th>\n",
              "      <th>Currency</th>\n",
              "      <th>Price</th>\n",
              "      <th>Property_type</th>\n",
              "      <th>Loc</th>\n",
              "    </tr>\n",
              "  </thead>\n",
              "  <tbody>\n",
              "    <tr>\n",
              "      <th>0</th>\n",
              "      <td>0</td>\n",
              "      <td>2023-06-22</td>\n",
              "      <td>2 BEDROOM HOUSE FOR RENT</td>\n",
              "      <td>a nice 2 bedroom duplex</td>\n",
              "      <td>Carlton Gate Estate, Akobo Gra Akobo Ibadan Oyo</td>\n",
              "      <td>2</td>\n",
              "      <td>Non-Furnished</td>\n",
              "      <td>₦</td>\n",
              "      <td>1800000</td>\n",
              "      <td>duplex</td>\n",
              "      <td>Akobo</td>\n",
              "    </tr>\n",
              "    <tr>\n",
              "      <th>1</th>\n",
              "      <td>1</td>\n",
              "      <td>2023-06-24</td>\n",
              "      <td>4 BEDROOM HOUSE FOR RENT</td>\n",
              "      <td>a nice 4 bedroom duplex</td>\n",
              "      <td>Ikolaba Gra Bodija Ibadan Oyo</td>\n",
              "      <td>4</td>\n",
              "      <td>Non-Furnished</td>\n",
              "      <td>₦</td>\n",
              "      <td>2500000</td>\n",
              "      <td>duplex</td>\n",
              "      <td>Bodija</td>\n",
              "    </tr>\n",
              "    <tr>\n",
              "      <th>2</th>\n",
              "      <td>2</td>\n",
              "      <td>2023-08-15</td>\n",
              "      <td>4 BEDROOM HOUSE FOR RENT</td>\n",
              "      <td>serviced 4 bedroom terraced duplex</td>\n",
              "      <td>Ikota Lekki Lagos</td>\n",
              "      <td>4</td>\n",
              "      <td>Serviced &amp; Newly Built</td>\n",
              "      <td>₦</td>\n",
              "      <td>3500000</td>\n",
              "      <td>terrace duplex</td>\n",
              "      <td>Ikota</td>\n",
              "    </tr>\n",
              "    <tr>\n",
              "      <th>3</th>\n",
              "      <td>3</td>\n",
              "      <td>2023-06-23</td>\n",
              "      <td>5 BEDROOM HOUSE FOR RENT</td>\n",
              "      <td>luxury 5 bedroom detached duplex with bq</td>\n",
              "      <td>Ikota Lekki Lagos</td>\n",
              "      <td>5</td>\n",
              "      <td>Serviced &amp; Newly Built</td>\n",
              "      <td>₦</td>\n",
              "      <td>7500000</td>\n",
              "      <td>detached duplex</td>\n",
              "      <td>Ikota</td>\n",
              "    </tr>\n",
              "    <tr>\n",
              "      <th>4</th>\n",
              "      <td>4</td>\n",
              "      <td>2023-07-14</td>\n",
              "      <td>4 BEDROOM HOUSE FOR RENT</td>\n",
              "      <td>luxury 4 bedroom semi detached duplex with bq</td>\n",
              "      <td>Lekki Phase 1 Lekki Lagos</td>\n",
              "      <td>4</td>\n",
              "      <td>Serviced &amp; Newly Built</td>\n",
              "      <td>₦</td>\n",
              "      <td>12000000</td>\n",
              "      <td>semi detached duplex</td>\n",
              "      <td>Phase 1, Lekki</td>\n",
              "    </tr>\n",
              "  </tbody>\n",
              "</table>\n",
              "</div>\n",
              "    <div class=\"colab-df-buttons\">\n",
              "\n",
              "  <div class=\"colab-df-container\">\n",
              "    <button class=\"colab-df-convert\" onclick=\"convertToInteractive('df-0c98aca3-3724-4ad2-a749-15c2029e2ef4')\"\n",
              "            title=\"Convert this dataframe to an interactive table.\"\n",
              "            style=\"display:none;\">\n",
              "\n",
              "  <svg xmlns=\"http://www.w3.org/2000/svg\" height=\"24px\" viewBox=\"0 -960 960 960\">\n",
              "    <path d=\"M120-120v-720h720v720H120Zm60-500h600v-160H180v160Zm220 220h160v-160H400v160Zm0 220h160v-160H400v160ZM180-400h160v-160H180v160Zm440 0h160v-160H620v160ZM180-180h160v-160H180v160Zm440 0h160v-160H620v160Z\"/>\n",
              "  </svg>\n",
              "    </button>\n",
              "\n",
              "  <style>\n",
              "    .colab-df-container {\n",
              "      display:flex;\n",
              "      gap: 12px;\n",
              "    }\n",
              "\n",
              "    .colab-df-convert {\n",
              "      background-color: #E8F0FE;\n",
              "      border: none;\n",
              "      border-radius: 50%;\n",
              "      cursor: pointer;\n",
              "      display: none;\n",
              "      fill: #1967D2;\n",
              "      height: 32px;\n",
              "      padding: 0 0 0 0;\n",
              "      width: 32px;\n",
              "    }\n",
              "\n",
              "    .colab-df-convert:hover {\n",
              "      background-color: #E2EBFA;\n",
              "      box-shadow: 0px 1px 2px rgba(60, 64, 67, 0.3), 0px 1px 3px 1px rgba(60, 64, 67, 0.15);\n",
              "      fill: #174EA6;\n",
              "    }\n",
              "\n",
              "    .colab-df-buttons div {\n",
              "      margin-bottom: 4px;\n",
              "    }\n",
              "\n",
              "    [theme=dark] .colab-df-convert {\n",
              "      background-color: #3B4455;\n",
              "      fill: #D2E3FC;\n",
              "    }\n",
              "\n",
              "    [theme=dark] .colab-df-convert:hover {\n",
              "      background-color: #434B5C;\n",
              "      box-shadow: 0px 1px 3px 1px rgba(0, 0, 0, 0.15);\n",
              "      filter: drop-shadow(0px 1px 2px rgba(0, 0, 0, 0.3));\n",
              "      fill: #FFFFFF;\n",
              "    }\n",
              "  </style>\n",
              "\n",
              "    <script>\n",
              "      const buttonEl =\n",
              "        document.querySelector('#df-0c98aca3-3724-4ad2-a749-15c2029e2ef4 button.colab-df-convert');\n",
              "      buttonEl.style.display =\n",
              "        google.colab.kernel.accessAllowed ? 'block' : 'none';\n",
              "\n",
              "      async function convertToInteractive(key) {\n",
              "        const element = document.querySelector('#df-0c98aca3-3724-4ad2-a749-15c2029e2ef4');\n",
              "        const dataTable =\n",
              "          await google.colab.kernel.invokeFunction('convertToInteractive',\n",
              "                                                    [key], {});\n",
              "        if (!dataTable) return;\n",
              "\n",
              "        const docLinkHtml = 'Like what you see? Visit the ' +\n",
              "          '<a target=\"_blank\" href=https://colab.research.google.com/notebooks/data_table.ipynb>data table notebook</a>'\n",
              "          + ' to learn more about interactive tables.';\n",
              "        element.innerHTML = '';\n",
              "        dataTable['output_type'] = 'display_data';\n",
              "        await google.colab.output.renderOutput(dataTable, element);\n",
              "        const docLink = document.createElement('div');\n",
              "        docLink.innerHTML = docLinkHtml;\n",
              "        element.appendChild(docLink);\n",
              "      }\n",
              "    </script>\n",
              "  </div>\n",
              "\n",
              "\n",
              "<div id=\"df-e3603117-5139-4941-810e-5c6f72d939fb\">\n",
              "  <button class=\"colab-df-quickchart\" onclick=\"quickchart('df-e3603117-5139-4941-810e-5c6f72d939fb')\"\n",
              "            title=\"Suggest charts.\"\n",
              "            style=\"display:none;\">\n",
              "\n",
              "<svg xmlns=\"http://www.w3.org/2000/svg\" height=\"24px\"viewBox=\"0 0 24 24\"\n",
              "     width=\"24px\">\n",
              "    <g>\n",
              "        <path d=\"M19 3H5c-1.1 0-2 .9-2 2v14c0 1.1.9 2 2 2h14c1.1 0 2-.9 2-2V5c0-1.1-.9-2-2-2zM9 17H7v-7h2v7zm4 0h-2V7h2v10zm4 0h-2v-4h2v4z\"/>\n",
              "    </g>\n",
              "</svg>\n",
              "  </button>\n",
              "\n",
              "<style>\n",
              "  .colab-df-quickchart {\n",
              "    background-color: #E8F0FE;\n",
              "    border: none;\n",
              "    border-radius: 50%;\n",
              "    cursor: pointer;\n",
              "    display: none;\n",
              "    fill: #1967D2;\n",
              "    height: 32px;\n",
              "    padding: 0 0 0 0;\n",
              "    width: 32px;\n",
              "  }\n",
              "\n",
              "  .colab-df-quickchart:hover {\n",
              "    background-color: #E2EBFA;\n",
              "    box-shadow: 0px 1px 2px rgba(60, 64, 67, 0.3), 0px 1px 3px 1px rgba(60, 64, 67, 0.15);\n",
              "    fill: #174EA6;\n",
              "  }\n",
              "\n",
              "  [theme=dark] .colab-df-quickchart {\n",
              "    background-color: #3B4455;\n",
              "    fill: #D2E3FC;\n",
              "  }\n",
              "\n",
              "  [theme=dark] .colab-df-quickchart:hover {\n",
              "    background-color: #434B5C;\n",
              "    box-shadow: 0px 1px 3px 1px rgba(0, 0, 0, 0.15);\n",
              "    filter: drop-shadow(0px 1px 2px rgba(0, 0, 0, 0.3));\n",
              "    fill: #FFFFFF;\n",
              "  }\n",
              "</style>\n",
              "\n",
              "  <script>\n",
              "    async function quickchart(key) {\n",
              "      const charts = await google.colab.kernel.invokeFunction(\n",
              "          'suggestCharts', [key], {});\n",
              "    }\n",
              "    (() => {\n",
              "      let quickchartButtonEl =\n",
              "        document.querySelector('#df-e3603117-5139-4941-810e-5c6f72d939fb button');\n",
              "      quickchartButtonEl.style.display =\n",
              "        google.colab.kernel.accessAllowed ? 'block' : 'none';\n",
              "    })();\n",
              "  </script>\n",
              "</div>\n",
              "    </div>\n",
              "  </div>\n"
            ]
          },
          "metadata": {},
          "execution_count": 109
        }
      ],
      "source": [
        "df.head()"
      ]
    },
    {
      "cell_type": "code",
      "execution_count": null,
      "metadata": {
        "id": "bEpBXoFa9lSu"
      },
      "outputs": [],
      "source": [
        "for index, row in df.iterrows():\n",
        "  df_loc= str(row['Location'])\n",
        "  df_split= row['Location'].split(' ')[-1]\n",
        "  df.loc[index, 'State'] = df_split"
      ]
    },
    {
      "cell_type": "code",
      "execution_count": null,
      "metadata": {
        "id": "NBnMYeWV9lN2",
        "colab": {
          "base_uri": "https://localhost:8080/"
        },
        "outputId": "881e9cb1-e125-4552-dd38-265354de7118"
      },
      "outputs": [
        {
          "output_type": "execute_result",
          "data": {
            "text/plain": [
              "array(['Oyo', 'Lagos', 'Abuja'], dtype=object)"
            ]
          },
          "metadata": {},
          "execution_count": 111
        }
      ],
      "source": [
        "df['State'].unique()"
      ]
    },
    {
      "cell_type": "code",
      "execution_count": null,
      "metadata": {
        "id": "46iooZX9Bbo2",
        "colab": {
          "base_uri": "https://localhost:8080/",
          "height": 310
        },
        "outputId": "1c158212-794d-4a9f-cc13-cbb8389a21f3"
      },
      "outputs": [
        {
          "output_type": "execute_result",
          "data": {
            "text/plain": [
              "   Unnamed: 0       Date               Description  \\\n",
              "0           0 2023-06-22  2 BEDROOM HOUSE FOR RENT   \n",
              "1           1 2023-06-24  4 BEDROOM HOUSE FOR RENT   \n",
              "2           2 2023-08-15  4 BEDROOM HOUSE FOR RENT   \n",
              "3           3 2023-06-23  5 BEDROOM HOUSE FOR RENT   \n",
              "4           4 2023-07-14  4 BEDROOM HOUSE FOR RENT   \n",
              "\n",
              "                                            Type  \\\n",
              "0                        a nice 2 bedroom duplex   \n",
              "1                        a nice 4 bedroom duplex   \n",
              "2             serviced 4 bedroom terraced duplex   \n",
              "3       luxury 5 bedroom detached duplex with bq   \n",
              "4  luxury 4 bedroom semi detached duplex with bq   \n",
              "\n",
              "                                          Location  Number Of Bedrooms  \\\n",
              "0  Carlton Gate Estate, Akobo Gra Akobo Ibadan Oyo                   2   \n",
              "1                    Ikolaba Gra Bodija Ibadan Oyo                   4   \n",
              "2                                Ikota Lekki Lagos                   4   \n",
              "3                                Ikota Lekki Lagos                   5   \n",
              "4                        Lekki Phase 1 Lekki Lagos                   4   \n",
              "\n",
              "                Furnished Currency     Price         Property_type  \\\n",
              "0           Non-Furnished        ₦   1800000                duplex   \n",
              "1           Non-Furnished        ₦   2500000                duplex   \n",
              "2  Serviced & Newly Built        ₦   3500000        terrace duplex   \n",
              "3  Serviced & Newly Built        ₦   7500000       detached duplex   \n",
              "4  Serviced & Newly Built        ₦  12000000  semi detached duplex   \n",
              "\n",
              "              Loc  State  \n",
              "0           Akobo    Oyo  \n",
              "1          Bodija    Oyo  \n",
              "2           Ikota  Lagos  \n",
              "3           Ikota  Lagos  \n",
              "4  Phase 1, Lekki  Lagos  "
            ],
            "text/html": [
              "\n",
              "  <div id=\"df-0d238c95-bdf8-4cd2-ab60-2f50cb9be2a4\" class=\"colab-df-container\">\n",
              "    <div>\n",
              "<style scoped>\n",
              "    .dataframe tbody tr th:only-of-type {\n",
              "        vertical-align: middle;\n",
              "    }\n",
              "\n",
              "    .dataframe tbody tr th {\n",
              "        vertical-align: top;\n",
              "    }\n",
              "\n",
              "    .dataframe thead th {\n",
              "        text-align: right;\n",
              "    }\n",
              "</style>\n",
              "<table border=\"1\" class=\"dataframe\">\n",
              "  <thead>\n",
              "    <tr style=\"text-align: right;\">\n",
              "      <th></th>\n",
              "      <th>Unnamed: 0</th>\n",
              "      <th>Date</th>\n",
              "      <th>Description</th>\n",
              "      <th>Type</th>\n",
              "      <th>Location</th>\n",
              "      <th>Number Of Bedrooms</th>\n",
              "      <th>Furnished</th>\n",
              "      <th>Currency</th>\n",
              "      <th>Price</th>\n",
              "      <th>Property_type</th>\n",
              "      <th>Loc</th>\n",
              "      <th>State</th>\n",
              "    </tr>\n",
              "  </thead>\n",
              "  <tbody>\n",
              "    <tr>\n",
              "      <th>0</th>\n",
              "      <td>0</td>\n",
              "      <td>2023-06-22</td>\n",
              "      <td>2 BEDROOM HOUSE FOR RENT</td>\n",
              "      <td>a nice 2 bedroom duplex</td>\n",
              "      <td>Carlton Gate Estate, Akobo Gra Akobo Ibadan Oyo</td>\n",
              "      <td>2</td>\n",
              "      <td>Non-Furnished</td>\n",
              "      <td>₦</td>\n",
              "      <td>1800000</td>\n",
              "      <td>duplex</td>\n",
              "      <td>Akobo</td>\n",
              "      <td>Oyo</td>\n",
              "    </tr>\n",
              "    <tr>\n",
              "      <th>1</th>\n",
              "      <td>1</td>\n",
              "      <td>2023-06-24</td>\n",
              "      <td>4 BEDROOM HOUSE FOR RENT</td>\n",
              "      <td>a nice 4 bedroom duplex</td>\n",
              "      <td>Ikolaba Gra Bodija Ibadan Oyo</td>\n",
              "      <td>4</td>\n",
              "      <td>Non-Furnished</td>\n",
              "      <td>₦</td>\n",
              "      <td>2500000</td>\n",
              "      <td>duplex</td>\n",
              "      <td>Bodija</td>\n",
              "      <td>Oyo</td>\n",
              "    </tr>\n",
              "    <tr>\n",
              "      <th>2</th>\n",
              "      <td>2</td>\n",
              "      <td>2023-08-15</td>\n",
              "      <td>4 BEDROOM HOUSE FOR RENT</td>\n",
              "      <td>serviced 4 bedroom terraced duplex</td>\n",
              "      <td>Ikota Lekki Lagos</td>\n",
              "      <td>4</td>\n",
              "      <td>Serviced &amp; Newly Built</td>\n",
              "      <td>₦</td>\n",
              "      <td>3500000</td>\n",
              "      <td>terrace duplex</td>\n",
              "      <td>Ikota</td>\n",
              "      <td>Lagos</td>\n",
              "    </tr>\n",
              "    <tr>\n",
              "      <th>3</th>\n",
              "      <td>3</td>\n",
              "      <td>2023-06-23</td>\n",
              "      <td>5 BEDROOM HOUSE FOR RENT</td>\n",
              "      <td>luxury 5 bedroom detached duplex with bq</td>\n",
              "      <td>Ikota Lekki Lagos</td>\n",
              "      <td>5</td>\n",
              "      <td>Serviced &amp; Newly Built</td>\n",
              "      <td>₦</td>\n",
              "      <td>7500000</td>\n",
              "      <td>detached duplex</td>\n",
              "      <td>Ikota</td>\n",
              "      <td>Lagos</td>\n",
              "    </tr>\n",
              "    <tr>\n",
              "      <th>4</th>\n",
              "      <td>4</td>\n",
              "      <td>2023-07-14</td>\n",
              "      <td>4 BEDROOM HOUSE FOR RENT</td>\n",
              "      <td>luxury 4 bedroom semi detached duplex with bq</td>\n",
              "      <td>Lekki Phase 1 Lekki Lagos</td>\n",
              "      <td>4</td>\n",
              "      <td>Serviced &amp; Newly Built</td>\n",
              "      <td>₦</td>\n",
              "      <td>12000000</td>\n",
              "      <td>semi detached duplex</td>\n",
              "      <td>Phase 1, Lekki</td>\n",
              "      <td>Lagos</td>\n",
              "    </tr>\n",
              "  </tbody>\n",
              "</table>\n",
              "</div>\n",
              "    <div class=\"colab-df-buttons\">\n",
              "\n",
              "  <div class=\"colab-df-container\">\n",
              "    <button class=\"colab-df-convert\" onclick=\"convertToInteractive('df-0d238c95-bdf8-4cd2-ab60-2f50cb9be2a4')\"\n",
              "            title=\"Convert this dataframe to an interactive table.\"\n",
              "            style=\"display:none;\">\n",
              "\n",
              "  <svg xmlns=\"http://www.w3.org/2000/svg\" height=\"24px\" viewBox=\"0 -960 960 960\">\n",
              "    <path d=\"M120-120v-720h720v720H120Zm60-500h600v-160H180v160Zm220 220h160v-160H400v160Zm0 220h160v-160H400v160ZM180-400h160v-160H180v160Zm440 0h160v-160H620v160ZM180-180h160v-160H180v160Zm440 0h160v-160H620v160Z\"/>\n",
              "  </svg>\n",
              "    </button>\n",
              "\n",
              "  <style>\n",
              "    .colab-df-container {\n",
              "      display:flex;\n",
              "      gap: 12px;\n",
              "    }\n",
              "\n",
              "    .colab-df-convert {\n",
              "      background-color: #E8F0FE;\n",
              "      border: none;\n",
              "      border-radius: 50%;\n",
              "      cursor: pointer;\n",
              "      display: none;\n",
              "      fill: #1967D2;\n",
              "      height: 32px;\n",
              "      padding: 0 0 0 0;\n",
              "      width: 32px;\n",
              "    }\n",
              "\n",
              "    .colab-df-convert:hover {\n",
              "      background-color: #E2EBFA;\n",
              "      box-shadow: 0px 1px 2px rgba(60, 64, 67, 0.3), 0px 1px 3px 1px rgba(60, 64, 67, 0.15);\n",
              "      fill: #174EA6;\n",
              "    }\n",
              "\n",
              "    .colab-df-buttons div {\n",
              "      margin-bottom: 4px;\n",
              "    }\n",
              "\n",
              "    [theme=dark] .colab-df-convert {\n",
              "      background-color: #3B4455;\n",
              "      fill: #D2E3FC;\n",
              "    }\n",
              "\n",
              "    [theme=dark] .colab-df-convert:hover {\n",
              "      background-color: #434B5C;\n",
              "      box-shadow: 0px 1px 3px 1px rgba(0, 0, 0, 0.15);\n",
              "      filter: drop-shadow(0px 1px 2px rgba(0, 0, 0, 0.3));\n",
              "      fill: #FFFFFF;\n",
              "    }\n",
              "  </style>\n",
              "\n",
              "    <script>\n",
              "      const buttonEl =\n",
              "        document.querySelector('#df-0d238c95-bdf8-4cd2-ab60-2f50cb9be2a4 button.colab-df-convert');\n",
              "      buttonEl.style.display =\n",
              "        google.colab.kernel.accessAllowed ? 'block' : 'none';\n",
              "\n",
              "      async function convertToInteractive(key) {\n",
              "        const element = document.querySelector('#df-0d238c95-bdf8-4cd2-ab60-2f50cb9be2a4');\n",
              "        const dataTable =\n",
              "          await google.colab.kernel.invokeFunction('convertToInteractive',\n",
              "                                                    [key], {});\n",
              "        if (!dataTable) return;\n",
              "\n",
              "        const docLinkHtml = 'Like what you see? Visit the ' +\n",
              "          '<a target=\"_blank\" href=https://colab.research.google.com/notebooks/data_table.ipynb>data table notebook</a>'\n",
              "          + ' to learn more about interactive tables.';\n",
              "        element.innerHTML = '';\n",
              "        dataTable['output_type'] = 'display_data';\n",
              "        await google.colab.output.renderOutput(dataTable, element);\n",
              "        const docLink = document.createElement('div');\n",
              "        docLink.innerHTML = docLinkHtml;\n",
              "        element.appendChild(docLink);\n",
              "      }\n",
              "    </script>\n",
              "  </div>\n",
              "\n",
              "\n",
              "<div id=\"df-ce26dba1-42c2-4877-9887-b4c56cfbb3be\">\n",
              "  <button class=\"colab-df-quickchart\" onclick=\"quickchart('df-ce26dba1-42c2-4877-9887-b4c56cfbb3be')\"\n",
              "            title=\"Suggest charts.\"\n",
              "            style=\"display:none;\">\n",
              "\n",
              "<svg xmlns=\"http://www.w3.org/2000/svg\" height=\"24px\"viewBox=\"0 0 24 24\"\n",
              "     width=\"24px\">\n",
              "    <g>\n",
              "        <path d=\"M19 3H5c-1.1 0-2 .9-2 2v14c0 1.1.9 2 2 2h14c1.1 0 2-.9 2-2V5c0-1.1-.9-2-2-2zM9 17H7v-7h2v7zm4 0h-2V7h2v10zm4 0h-2v-4h2v4z\"/>\n",
              "    </g>\n",
              "</svg>\n",
              "  </button>\n",
              "\n",
              "<style>\n",
              "  .colab-df-quickchart {\n",
              "    background-color: #E8F0FE;\n",
              "    border: none;\n",
              "    border-radius: 50%;\n",
              "    cursor: pointer;\n",
              "    display: none;\n",
              "    fill: #1967D2;\n",
              "    height: 32px;\n",
              "    padding: 0 0 0 0;\n",
              "    width: 32px;\n",
              "  }\n",
              "\n",
              "  .colab-df-quickchart:hover {\n",
              "    background-color: #E2EBFA;\n",
              "    box-shadow: 0px 1px 2px rgba(60, 64, 67, 0.3), 0px 1px 3px 1px rgba(60, 64, 67, 0.15);\n",
              "    fill: #174EA6;\n",
              "  }\n",
              "\n",
              "  [theme=dark] .colab-df-quickchart {\n",
              "    background-color: #3B4455;\n",
              "    fill: #D2E3FC;\n",
              "  }\n",
              "\n",
              "  [theme=dark] .colab-df-quickchart:hover {\n",
              "    background-color: #434B5C;\n",
              "    box-shadow: 0px 1px 3px 1px rgba(0, 0, 0, 0.15);\n",
              "    filter: drop-shadow(0px 1px 2px rgba(0, 0, 0, 0.3));\n",
              "    fill: #FFFFFF;\n",
              "  }\n",
              "</style>\n",
              "\n",
              "  <script>\n",
              "    async function quickchart(key) {\n",
              "      const charts = await google.colab.kernel.invokeFunction(\n",
              "          'suggestCharts', [key], {});\n",
              "    }\n",
              "    (() => {\n",
              "      let quickchartButtonEl =\n",
              "        document.querySelector('#df-ce26dba1-42c2-4877-9887-b4c56cfbb3be button');\n",
              "      quickchartButtonEl.style.display =\n",
              "        google.colab.kernel.accessAllowed ? 'block' : 'none';\n",
              "    })();\n",
              "  </script>\n",
              "</div>\n",
              "    </div>\n",
              "  </div>\n"
            ]
          },
          "metadata": {},
          "execution_count": 112
        }
      ],
      "source": [
        "df.head()"
      ]
    },
    {
      "cell_type": "code",
      "execution_count": null,
      "metadata": {
        "id": "21DZpa0arVdK"
      },
      "outputs": [],
      "source": [
        "df.dropna(axis=0, inplace=True)"
      ]
    },
    {
      "cell_type": "code",
      "execution_count": null,
      "metadata": {
        "id": "WDmSj-jKqxRb",
        "colab": {
          "base_uri": "https://localhost:8080/"
        },
        "outputId": "df3e5e5a-496f-43bc-ac60-0a763c6a8e56"
      },
      "outputs": [
        {
          "output_type": "execute_result",
          "data": {
            "text/plain": [
              "Unnamed: 0            0\n",
              "Date                  0\n",
              "Description           0\n",
              "Type                  0\n",
              "Location              0\n",
              "Number Of Bedrooms    0\n",
              "Furnished             0\n",
              "Currency              0\n",
              "Price                 0\n",
              "Property_type         0\n",
              "Loc                   0\n",
              "State                 0\n",
              "dtype: int64"
            ]
          },
          "metadata": {},
          "execution_count": 114
        }
      ],
      "source": [
        "df.isnull().sum()"
      ]
    },
    {
      "cell_type": "code",
      "execution_count": null,
      "metadata": {
        "id": "mQ2FtJe_-Ilk",
        "colab": {
          "base_uri": "https://localhost:8080/",
          "height": 614
        },
        "outputId": "ddb5b2aa-ca33-471d-8de4-26dc145ab533"
      },
      "outputs": [
        {
          "output_type": "execute_result",
          "data": {
            "text/plain": [
              "       Unnamed: 0       Date                          Description  \\\n",
              "0               0 2023-06-22             2 BEDROOM HOUSE FOR RENT   \n",
              "1               1 2023-06-24             4 BEDROOM HOUSE FOR RENT   \n",
              "2               2 2023-08-15             4 BEDROOM HOUSE FOR RENT   \n",
              "3               3 2023-06-23             5 BEDROOM HOUSE FOR RENT   \n",
              "4               4 2023-07-14             4 BEDROOM HOUSE FOR RENT   \n",
              "...           ...        ...                                  ...   \n",
              "99945       99945 2023-08-18  2 BEDROOM FLAT / APARTMENT FOR RENT   \n",
              "99946       99946 2023-06-22             4 BEDROOM HOUSE FOR RENT   \n",
              "99947       99947 2023-08-16             3 BEDROOM HOUSE FOR RENT   \n",
              "99948       99948 2023-08-15             2 BEDROOM HOUSE FOR RENT   \n",
              "99949       99949 2023-08-22             3 BEDROOM HOUSE FOR RENT   \n",
              "\n",
              "                                                Type  \\\n",
              "0                            a nice 2 bedroom duplex   \n",
              "1                            a nice 4 bedroom duplex   \n",
              "2                 serviced 4 bedroom terraced duplex   \n",
              "3           luxury 5 bedroom detached duplex with bq   \n",
              "4      luxury 4 bedroom semi detached duplex with bq   \n",
              "...                                              ...   \n",
              "99945                                 2 bedroom flat   \n",
              "99946       luxury serviced 4 bedroom terrace duplex   \n",
              "99947                   serviced 3 bedroom apartment   \n",
              "99948                   serviced 2 bedroom apartment   \n",
              "99949                luxury 3 bedroom apartment + bq   \n",
              "\n",
              "                                              Location  Number Of Bedrooms  \\\n",
              "0      Carlton Gate Estate, Akobo Gra Akobo Ibadan Oyo                   2   \n",
              "1                        Ikolaba Gra Bodija Ibadan Oyo                   4   \n",
              "2                                    Ikota Lekki Lagos                   4   \n",
              "3                                    Ikota Lekki Lagos                   5   \n",
              "4                            Lekki Phase 1 Lekki Lagos                   4   \n",
              "...                                                ...                 ...   \n",
              "99945                             Alagomeji Yaba Lagos                   2   \n",
              "99946                                Ikate Lekki Lagos                   4   \n",
              "99947                            Victoria Island Lagos                   3   \n",
              "99948                             Phase 1, Lekki Lagos                   2   \n",
              "99949                            Victoria Island Lagos                   3   \n",
              "\n",
              "                     Furnished Currency     Price         Property_type  \\\n",
              "0                Non-Furnished        ₦   1800000                duplex   \n",
              "1                Non-Furnished        ₦   2500000                duplex   \n",
              "2       Serviced & Newly Built        ₦   3500000        terrace duplex   \n",
              "3       Serviced & Newly Built        ₦   7500000       detached duplex   \n",
              "4       Serviced & Newly Built        ₦  12000000  semi detached duplex   \n",
              "...                        ...      ...       ...                   ...   \n",
              "99945  Furnished & Newly Built        ₦   2500000                  flat   \n",
              "99946   Serviced & Newly Built        ₦   7000000        terrace duplex   \n",
              "99947   Serviced & Newly Built        ₦  15000000                  flat   \n",
              "99948   Serviced & Newly Built        ₦   7500000                  flat   \n",
              "99949   Serviced & Newly Built        ₦   8000000                  flat   \n",
              "\n",
              "                   Loc  State  \n",
              "0                Akobo    Oyo  \n",
              "1               Bodija    Oyo  \n",
              "2                Ikota  Lagos  \n",
              "3                Ikota  Lagos  \n",
              "4       Phase 1, Lekki  Lagos  \n",
              "...                ...    ...  \n",
              "99945        Alagomeji  Lagos  \n",
              "99946      Ikate Lekki  Lagos  \n",
              "99947  Victoria Island  Lagos  \n",
              "99948   Phase 1, Lekki  Lagos  \n",
              "99949  Victoria Island  Lagos  \n",
              "\n",
              "[97951 rows x 12 columns]"
            ],
            "text/html": [
              "\n",
              "  <div id=\"df-47a30c16-8971-4fd3-9510-b5367704c6af\" class=\"colab-df-container\">\n",
              "    <div>\n",
              "<style scoped>\n",
              "    .dataframe tbody tr th:only-of-type {\n",
              "        vertical-align: middle;\n",
              "    }\n",
              "\n",
              "    .dataframe tbody tr th {\n",
              "        vertical-align: top;\n",
              "    }\n",
              "\n",
              "    .dataframe thead th {\n",
              "        text-align: right;\n",
              "    }\n",
              "</style>\n",
              "<table border=\"1\" class=\"dataframe\">\n",
              "  <thead>\n",
              "    <tr style=\"text-align: right;\">\n",
              "      <th></th>\n",
              "      <th>Unnamed: 0</th>\n",
              "      <th>Date</th>\n",
              "      <th>Description</th>\n",
              "      <th>Type</th>\n",
              "      <th>Location</th>\n",
              "      <th>Number Of Bedrooms</th>\n",
              "      <th>Furnished</th>\n",
              "      <th>Currency</th>\n",
              "      <th>Price</th>\n",
              "      <th>Property_type</th>\n",
              "      <th>Loc</th>\n",
              "      <th>State</th>\n",
              "    </tr>\n",
              "  </thead>\n",
              "  <tbody>\n",
              "    <tr>\n",
              "      <th>0</th>\n",
              "      <td>0</td>\n",
              "      <td>2023-06-22</td>\n",
              "      <td>2 BEDROOM HOUSE FOR RENT</td>\n",
              "      <td>a nice 2 bedroom duplex</td>\n",
              "      <td>Carlton Gate Estate, Akobo Gra Akobo Ibadan Oyo</td>\n",
              "      <td>2</td>\n",
              "      <td>Non-Furnished</td>\n",
              "      <td>₦</td>\n",
              "      <td>1800000</td>\n",
              "      <td>duplex</td>\n",
              "      <td>Akobo</td>\n",
              "      <td>Oyo</td>\n",
              "    </tr>\n",
              "    <tr>\n",
              "      <th>1</th>\n",
              "      <td>1</td>\n",
              "      <td>2023-06-24</td>\n",
              "      <td>4 BEDROOM HOUSE FOR RENT</td>\n",
              "      <td>a nice 4 bedroom duplex</td>\n",
              "      <td>Ikolaba Gra Bodija Ibadan Oyo</td>\n",
              "      <td>4</td>\n",
              "      <td>Non-Furnished</td>\n",
              "      <td>₦</td>\n",
              "      <td>2500000</td>\n",
              "      <td>duplex</td>\n",
              "      <td>Bodija</td>\n",
              "      <td>Oyo</td>\n",
              "    </tr>\n",
              "    <tr>\n",
              "      <th>2</th>\n",
              "      <td>2</td>\n",
              "      <td>2023-08-15</td>\n",
              "      <td>4 BEDROOM HOUSE FOR RENT</td>\n",
              "      <td>serviced 4 bedroom terraced duplex</td>\n",
              "      <td>Ikota Lekki Lagos</td>\n",
              "      <td>4</td>\n",
              "      <td>Serviced &amp; Newly Built</td>\n",
              "      <td>₦</td>\n",
              "      <td>3500000</td>\n",
              "      <td>terrace duplex</td>\n",
              "      <td>Ikota</td>\n",
              "      <td>Lagos</td>\n",
              "    </tr>\n",
              "    <tr>\n",
              "      <th>3</th>\n",
              "      <td>3</td>\n",
              "      <td>2023-06-23</td>\n",
              "      <td>5 BEDROOM HOUSE FOR RENT</td>\n",
              "      <td>luxury 5 bedroom detached duplex with bq</td>\n",
              "      <td>Ikota Lekki Lagos</td>\n",
              "      <td>5</td>\n",
              "      <td>Serviced &amp; Newly Built</td>\n",
              "      <td>₦</td>\n",
              "      <td>7500000</td>\n",
              "      <td>detached duplex</td>\n",
              "      <td>Ikota</td>\n",
              "      <td>Lagos</td>\n",
              "    </tr>\n",
              "    <tr>\n",
              "      <th>4</th>\n",
              "      <td>4</td>\n",
              "      <td>2023-07-14</td>\n",
              "      <td>4 BEDROOM HOUSE FOR RENT</td>\n",
              "      <td>luxury 4 bedroom semi detached duplex with bq</td>\n",
              "      <td>Lekki Phase 1 Lekki Lagos</td>\n",
              "      <td>4</td>\n",
              "      <td>Serviced &amp; Newly Built</td>\n",
              "      <td>₦</td>\n",
              "      <td>12000000</td>\n",
              "      <td>semi detached duplex</td>\n",
              "      <td>Phase 1, Lekki</td>\n",
              "      <td>Lagos</td>\n",
              "    </tr>\n",
              "    <tr>\n",
              "      <th>...</th>\n",
              "      <td>...</td>\n",
              "      <td>...</td>\n",
              "      <td>...</td>\n",
              "      <td>...</td>\n",
              "      <td>...</td>\n",
              "      <td>...</td>\n",
              "      <td>...</td>\n",
              "      <td>...</td>\n",
              "      <td>...</td>\n",
              "      <td>...</td>\n",
              "      <td>...</td>\n",
              "      <td>...</td>\n",
              "    </tr>\n",
              "    <tr>\n",
              "      <th>99945</th>\n",
              "      <td>99945</td>\n",
              "      <td>2023-08-18</td>\n",
              "      <td>2 BEDROOM FLAT / APARTMENT FOR RENT</td>\n",
              "      <td>2 bedroom flat</td>\n",
              "      <td>Alagomeji Yaba Lagos</td>\n",
              "      <td>2</td>\n",
              "      <td>Furnished &amp; Newly Built</td>\n",
              "      <td>₦</td>\n",
              "      <td>2500000</td>\n",
              "      <td>flat</td>\n",
              "      <td>Alagomeji</td>\n",
              "      <td>Lagos</td>\n",
              "    </tr>\n",
              "    <tr>\n",
              "      <th>99946</th>\n",
              "      <td>99946</td>\n",
              "      <td>2023-06-22</td>\n",
              "      <td>4 BEDROOM HOUSE FOR RENT</td>\n",
              "      <td>luxury serviced 4 bedroom terrace duplex</td>\n",
              "      <td>Ikate Lekki Lagos</td>\n",
              "      <td>4</td>\n",
              "      <td>Serviced &amp; Newly Built</td>\n",
              "      <td>₦</td>\n",
              "      <td>7000000</td>\n",
              "      <td>terrace duplex</td>\n",
              "      <td>Ikate Lekki</td>\n",
              "      <td>Lagos</td>\n",
              "    </tr>\n",
              "    <tr>\n",
              "      <th>99947</th>\n",
              "      <td>99947</td>\n",
              "      <td>2023-08-16</td>\n",
              "      <td>3 BEDROOM HOUSE FOR RENT</td>\n",
              "      <td>serviced 3 bedroom apartment</td>\n",
              "      <td>Victoria Island Lagos</td>\n",
              "      <td>3</td>\n",
              "      <td>Serviced &amp; Newly Built</td>\n",
              "      <td>₦</td>\n",
              "      <td>15000000</td>\n",
              "      <td>flat</td>\n",
              "      <td>Victoria Island</td>\n",
              "      <td>Lagos</td>\n",
              "    </tr>\n",
              "    <tr>\n",
              "      <th>99948</th>\n",
              "      <td>99948</td>\n",
              "      <td>2023-08-15</td>\n",
              "      <td>2 BEDROOM HOUSE FOR RENT</td>\n",
              "      <td>serviced 2 bedroom apartment</td>\n",
              "      <td>Phase 1, Lekki Lagos</td>\n",
              "      <td>2</td>\n",
              "      <td>Serviced &amp; Newly Built</td>\n",
              "      <td>₦</td>\n",
              "      <td>7500000</td>\n",
              "      <td>flat</td>\n",
              "      <td>Phase 1, Lekki</td>\n",
              "      <td>Lagos</td>\n",
              "    </tr>\n",
              "    <tr>\n",
              "      <th>99949</th>\n",
              "      <td>99949</td>\n",
              "      <td>2023-08-22</td>\n",
              "      <td>3 BEDROOM HOUSE FOR RENT</td>\n",
              "      <td>luxury 3 bedroom apartment + bq</td>\n",
              "      <td>Victoria Island Lagos</td>\n",
              "      <td>3</td>\n",
              "      <td>Serviced &amp; Newly Built</td>\n",
              "      <td>₦</td>\n",
              "      <td>8000000</td>\n",
              "      <td>flat</td>\n",
              "      <td>Victoria Island</td>\n",
              "      <td>Lagos</td>\n",
              "    </tr>\n",
              "  </tbody>\n",
              "</table>\n",
              "<p>97951 rows × 12 columns</p>\n",
              "</div>\n",
              "    <div class=\"colab-df-buttons\">\n",
              "\n",
              "  <div class=\"colab-df-container\">\n",
              "    <button class=\"colab-df-convert\" onclick=\"convertToInteractive('df-47a30c16-8971-4fd3-9510-b5367704c6af')\"\n",
              "            title=\"Convert this dataframe to an interactive table.\"\n",
              "            style=\"display:none;\">\n",
              "\n",
              "  <svg xmlns=\"http://www.w3.org/2000/svg\" height=\"24px\" viewBox=\"0 -960 960 960\">\n",
              "    <path d=\"M120-120v-720h720v720H120Zm60-500h600v-160H180v160Zm220 220h160v-160H400v160Zm0 220h160v-160H400v160ZM180-400h160v-160H180v160Zm440 0h160v-160H620v160ZM180-180h160v-160H180v160Zm440 0h160v-160H620v160Z\"/>\n",
              "  </svg>\n",
              "    </button>\n",
              "\n",
              "  <style>\n",
              "    .colab-df-container {\n",
              "      display:flex;\n",
              "      gap: 12px;\n",
              "    }\n",
              "\n",
              "    .colab-df-convert {\n",
              "      background-color: #E8F0FE;\n",
              "      border: none;\n",
              "      border-radius: 50%;\n",
              "      cursor: pointer;\n",
              "      display: none;\n",
              "      fill: #1967D2;\n",
              "      height: 32px;\n",
              "      padding: 0 0 0 0;\n",
              "      width: 32px;\n",
              "    }\n",
              "\n",
              "    .colab-df-convert:hover {\n",
              "      background-color: #E2EBFA;\n",
              "      box-shadow: 0px 1px 2px rgba(60, 64, 67, 0.3), 0px 1px 3px 1px rgba(60, 64, 67, 0.15);\n",
              "      fill: #174EA6;\n",
              "    }\n",
              "\n",
              "    .colab-df-buttons div {\n",
              "      margin-bottom: 4px;\n",
              "    }\n",
              "\n",
              "    [theme=dark] .colab-df-convert {\n",
              "      background-color: #3B4455;\n",
              "      fill: #D2E3FC;\n",
              "    }\n",
              "\n",
              "    [theme=dark] .colab-df-convert:hover {\n",
              "      background-color: #434B5C;\n",
              "      box-shadow: 0px 1px 3px 1px rgba(0, 0, 0, 0.15);\n",
              "      filter: drop-shadow(0px 1px 2px rgba(0, 0, 0, 0.3));\n",
              "      fill: #FFFFFF;\n",
              "    }\n",
              "  </style>\n",
              "\n",
              "    <script>\n",
              "      const buttonEl =\n",
              "        document.querySelector('#df-47a30c16-8971-4fd3-9510-b5367704c6af button.colab-df-convert');\n",
              "      buttonEl.style.display =\n",
              "        google.colab.kernel.accessAllowed ? 'block' : 'none';\n",
              "\n",
              "      async function convertToInteractive(key) {\n",
              "        const element = document.querySelector('#df-47a30c16-8971-4fd3-9510-b5367704c6af');\n",
              "        const dataTable =\n",
              "          await google.colab.kernel.invokeFunction('convertToInteractive',\n",
              "                                                    [key], {});\n",
              "        if (!dataTable) return;\n",
              "\n",
              "        const docLinkHtml = 'Like what you see? Visit the ' +\n",
              "          '<a target=\"_blank\" href=https://colab.research.google.com/notebooks/data_table.ipynb>data table notebook</a>'\n",
              "          + ' to learn more about interactive tables.';\n",
              "        element.innerHTML = '';\n",
              "        dataTable['output_type'] = 'display_data';\n",
              "        await google.colab.output.renderOutput(dataTable, element);\n",
              "        const docLink = document.createElement('div');\n",
              "        docLink.innerHTML = docLinkHtml;\n",
              "        element.appendChild(docLink);\n",
              "      }\n",
              "    </script>\n",
              "  </div>\n",
              "\n",
              "\n",
              "<div id=\"df-44df39e2-3e1f-4d54-bcec-fe4a11c4af5e\">\n",
              "  <button class=\"colab-df-quickchart\" onclick=\"quickchart('df-44df39e2-3e1f-4d54-bcec-fe4a11c4af5e')\"\n",
              "            title=\"Suggest charts.\"\n",
              "            style=\"display:none;\">\n",
              "\n",
              "<svg xmlns=\"http://www.w3.org/2000/svg\" height=\"24px\"viewBox=\"0 0 24 24\"\n",
              "     width=\"24px\">\n",
              "    <g>\n",
              "        <path d=\"M19 3H5c-1.1 0-2 .9-2 2v14c0 1.1.9 2 2 2h14c1.1 0 2-.9 2-2V5c0-1.1-.9-2-2-2zM9 17H7v-7h2v7zm4 0h-2V7h2v10zm4 0h-2v-4h2v4z\"/>\n",
              "    </g>\n",
              "</svg>\n",
              "  </button>\n",
              "\n",
              "<style>\n",
              "  .colab-df-quickchart {\n",
              "    background-color: #E8F0FE;\n",
              "    border: none;\n",
              "    border-radius: 50%;\n",
              "    cursor: pointer;\n",
              "    display: none;\n",
              "    fill: #1967D2;\n",
              "    height: 32px;\n",
              "    padding: 0 0 0 0;\n",
              "    width: 32px;\n",
              "  }\n",
              "\n",
              "  .colab-df-quickchart:hover {\n",
              "    background-color: #E2EBFA;\n",
              "    box-shadow: 0px 1px 2px rgba(60, 64, 67, 0.3), 0px 1px 3px 1px rgba(60, 64, 67, 0.15);\n",
              "    fill: #174EA6;\n",
              "  }\n",
              "\n",
              "  [theme=dark] .colab-df-quickchart {\n",
              "    background-color: #3B4455;\n",
              "    fill: #D2E3FC;\n",
              "  }\n",
              "\n",
              "  [theme=dark] .colab-df-quickchart:hover {\n",
              "    background-color: #434B5C;\n",
              "    box-shadow: 0px 1px 3px 1px rgba(0, 0, 0, 0.15);\n",
              "    filter: drop-shadow(0px 1px 2px rgba(0, 0, 0, 0.3));\n",
              "    fill: #FFFFFF;\n",
              "  }\n",
              "</style>\n",
              "\n",
              "  <script>\n",
              "    async function quickchart(key) {\n",
              "      const charts = await google.colab.kernel.invokeFunction(\n",
              "          'suggestCharts', [key], {});\n",
              "    }\n",
              "    (() => {\n",
              "      let quickchartButtonEl =\n",
              "        document.querySelector('#df-44df39e2-3e1f-4d54-bcec-fe4a11c4af5e button');\n",
              "      quickchartButtonEl.style.display =\n",
              "        google.colab.kernel.accessAllowed ? 'block' : 'none';\n",
              "    })();\n",
              "  </script>\n",
              "</div>\n",
              "    </div>\n",
              "  </div>\n"
            ]
          },
          "metadata": {},
          "execution_count": 115
        }
      ],
      "source": [
        "df.drop_duplicates()"
      ]
    },
    {
      "cell_type": "code",
      "execution_count": null,
      "metadata": {
        "id": "EIf8qLvr_Mo7"
      },
      "outputs": [],
      "source": [
        "pd.set_option('display.float_format', '{:.2f}'.format)"
      ]
    },
    {
      "cell_type": "code",
      "execution_count": null,
      "metadata": {
        "id": "UrxKGU5J-Ig-"
      },
      "outputs": [],
      "source": [
        "from sklearn.preprocessing import LabelEncoder"
      ]
    },
    {
      "cell_type": "code",
      "execution_count": null,
      "metadata": {
        "id": "yV7O1yRK-IdD"
      },
      "outputs": [],
      "source": [
        "\n",
        "le_furnished= LabelEncoder()\n",
        "df['Furnished'] = le_furnished.fit_transform(df['Furnished'])\n"
      ]
    },
    {
      "cell_type": "code",
      "execution_count": null,
      "metadata": {
        "id": "wdlo7JZQ-IYa"
      },
      "outputs": [],
      "source": [
        "le_pro = LabelEncoder()\n",
        "\n",
        "df['Property_type'] = le_pro.fit_transform(df['Property_type'])"
      ]
    },
    {
      "cell_type": "code",
      "execution_count": null,
      "metadata": {
        "id": "XjP61TJ--ITl"
      },
      "outputs": [],
      "source": [
        "\n",
        "le_loc = LabelEncoder()\n",
        "df['Loc'] = le_loc.fit_transform(df['Loc'])"
      ]
    },
    {
      "cell_type": "code",
      "execution_count": null,
      "metadata": {
        "id": "P8WOrdvR-ILf"
      },
      "outputs": [],
      "source": [
        "le_state= LabelEncoder()\n",
        "df['State']= le_state.fit_transform(df['State'])"
      ]
    },
    {
      "cell_type": "code",
      "execution_count": null,
      "metadata": {
        "id": "gMv0EjwxCAPw",
        "colab": {
          "base_uri": "https://localhost:8080/",
          "height": 310
        },
        "outputId": "61b31f67-c52d-4d2e-a740-f71bd92cbbd5"
      },
      "outputs": [
        {
          "output_type": "execute_result",
          "data": {
            "text/plain": [
              "   Unnamed: 0       Date               Description  \\\n",
              "0           0 2023-06-22  2 BEDROOM HOUSE FOR RENT   \n",
              "1           1 2023-06-24  4 BEDROOM HOUSE FOR RENT   \n",
              "2           2 2023-08-15  4 BEDROOM HOUSE FOR RENT   \n",
              "3           3 2023-06-23  5 BEDROOM HOUSE FOR RENT   \n",
              "4           4 2023-07-14  4 BEDROOM HOUSE FOR RENT   \n",
              "\n",
              "                                            Type  \\\n",
              "0                        a nice 2 bedroom duplex   \n",
              "1                        a nice 4 bedroom duplex   \n",
              "2             serviced 4 bedroom terraced duplex   \n",
              "3       luxury 5 bedroom detached duplex with bq   \n",
              "4  luxury 4 bedroom semi detached duplex with bq   \n",
              "\n",
              "                                          Location  Number Of Bedrooms  \\\n",
              "0  Carlton Gate Estate, Akobo Gra Akobo Ibadan Oyo                   2   \n",
              "1                    Ikolaba Gra Bodija Ibadan Oyo                   4   \n",
              "2                                Ikota Lekki Lagos                   4   \n",
              "3                                Ikota Lekki Lagos                   5   \n",
              "4                        Lekki Phase 1 Lekki Lagos                   4   \n",
              "\n",
              "   Furnished Currency     Price  Property_type  Loc  State  \n",
              "0          2        ₦   1800000              1    1      2  \n",
              "1          2        ₦   2500000              1    3      2  \n",
              "2          4        ₦   3500000              8    7      1  \n",
              "3          4        ₦   7500000              0    7      1  \n",
              "4          4        ₦  12000000              7   15      1  "
            ],
            "text/html": [
              "\n",
              "  <div id=\"df-5d5d05ba-2fd3-461f-a196-7a4a606b60f8\" class=\"colab-df-container\">\n",
              "    <div>\n",
              "<style scoped>\n",
              "    .dataframe tbody tr th:only-of-type {\n",
              "        vertical-align: middle;\n",
              "    }\n",
              "\n",
              "    .dataframe tbody tr th {\n",
              "        vertical-align: top;\n",
              "    }\n",
              "\n",
              "    .dataframe thead th {\n",
              "        text-align: right;\n",
              "    }\n",
              "</style>\n",
              "<table border=\"1\" class=\"dataframe\">\n",
              "  <thead>\n",
              "    <tr style=\"text-align: right;\">\n",
              "      <th></th>\n",
              "      <th>Unnamed: 0</th>\n",
              "      <th>Date</th>\n",
              "      <th>Description</th>\n",
              "      <th>Type</th>\n",
              "      <th>Location</th>\n",
              "      <th>Number Of Bedrooms</th>\n",
              "      <th>Furnished</th>\n",
              "      <th>Currency</th>\n",
              "      <th>Price</th>\n",
              "      <th>Property_type</th>\n",
              "      <th>Loc</th>\n",
              "      <th>State</th>\n",
              "    </tr>\n",
              "  </thead>\n",
              "  <tbody>\n",
              "    <tr>\n",
              "      <th>0</th>\n",
              "      <td>0</td>\n",
              "      <td>2023-06-22</td>\n",
              "      <td>2 BEDROOM HOUSE FOR RENT</td>\n",
              "      <td>a nice 2 bedroom duplex</td>\n",
              "      <td>Carlton Gate Estate, Akobo Gra Akobo Ibadan Oyo</td>\n",
              "      <td>2</td>\n",
              "      <td>2</td>\n",
              "      <td>₦</td>\n",
              "      <td>1800000</td>\n",
              "      <td>1</td>\n",
              "      <td>1</td>\n",
              "      <td>2</td>\n",
              "    </tr>\n",
              "    <tr>\n",
              "      <th>1</th>\n",
              "      <td>1</td>\n",
              "      <td>2023-06-24</td>\n",
              "      <td>4 BEDROOM HOUSE FOR RENT</td>\n",
              "      <td>a nice 4 bedroom duplex</td>\n",
              "      <td>Ikolaba Gra Bodija Ibadan Oyo</td>\n",
              "      <td>4</td>\n",
              "      <td>2</td>\n",
              "      <td>₦</td>\n",
              "      <td>2500000</td>\n",
              "      <td>1</td>\n",
              "      <td>3</td>\n",
              "      <td>2</td>\n",
              "    </tr>\n",
              "    <tr>\n",
              "      <th>2</th>\n",
              "      <td>2</td>\n",
              "      <td>2023-08-15</td>\n",
              "      <td>4 BEDROOM HOUSE FOR RENT</td>\n",
              "      <td>serviced 4 bedroom terraced duplex</td>\n",
              "      <td>Ikota Lekki Lagos</td>\n",
              "      <td>4</td>\n",
              "      <td>4</td>\n",
              "      <td>₦</td>\n",
              "      <td>3500000</td>\n",
              "      <td>8</td>\n",
              "      <td>7</td>\n",
              "      <td>1</td>\n",
              "    </tr>\n",
              "    <tr>\n",
              "      <th>3</th>\n",
              "      <td>3</td>\n",
              "      <td>2023-06-23</td>\n",
              "      <td>5 BEDROOM HOUSE FOR RENT</td>\n",
              "      <td>luxury 5 bedroom detached duplex with bq</td>\n",
              "      <td>Ikota Lekki Lagos</td>\n",
              "      <td>5</td>\n",
              "      <td>4</td>\n",
              "      <td>₦</td>\n",
              "      <td>7500000</td>\n",
              "      <td>0</td>\n",
              "      <td>7</td>\n",
              "      <td>1</td>\n",
              "    </tr>\n",
              "    <tr>\n",
              "      <th>4</th>\n",
              "      <td>4</td>\n",
              "      <td>2023-07-14</td>\n",
              "      <td>4 BEDROOM HOUSE FOR RENT</td>\n",
              "      <td>luxury 4 bedroom semi detached duplex with bq</td>\n",
              "      <td>Lekki Phase 1 Lekki Lagos</td>\n",
              "      <td>4</td>\n",
              "      <td>4</td>\n",
              "      <td>₦</td>\n",
              "      <td>12000000</td>\n",
              "      <td>7</td>\n",
              "      <td>15</td>\n",
              "      <td>1</td>\n",
              "    </tr>\n",
              "  </tbody>\n",
              "</table>\n",
              "</div>\n",
              "    <div class=\"colab-df-buttons\">\n",
              "\n",
              "  <div class=\"colab-df-container\">\n",
              "    <button class=\"colab-df-convert\" onclick=\"convertToInteractive('df-5d5d05ba-2fd3-461f-a196-7a4a606b60f8')\"\n",
              "            title=\"Convert this dataframe to an interactive table.\"\n",
              "            style=\"display:none;\">\n",
              "\n",
              "  <svg xmlns=\"http://www.w3.org/2000/svg\" height=\"24px\" viewBox=\"0 -960 960 960\">\n",
              "    <path d=\"M120-120v-720h720v720H120Zm60-500h600v-160H180v160Zm220 220h160v-160H400v160Zm0 220h160v-160H400v160ZM180-400h160v-160H180v160Zm440 0h160v-160H620v160ZM180-180h160v-160H180v160Zm440 0h160v-160H620v160Z\"/>\n",
              "  </svg>\n",
              "    </button>\n",
              "\n",
              "  <style>\n",
              "    .colab-df-container {\n",
              "      display:flex;\n",
              "      gap: 12px;\n",
              "    }\n",
              "\n",
              "    .colab-df-convert {\n",
              "      background-color: #E8F0FE;\n",
              "      border: none;\n",
              "      border-radius: 50%;\n",
              "      cursor: pointer;\n",
              "      display: none;\n",
              "      fill: #1967D2;\n",
              "      height: 32px;\n",
              "      padding: 0 0 0 0;\n",
              "      width: 32px;\n",
              "    }\n",
              "\n",
              "    .colab-df-convert:hover {\n",
              "      background-color: #E2EBFA;\n",
              "      box-shadow: 0px 1px 2px rgba(60, 64, 67, 0.3), 0px 1px 3px 1px rgba(60, 64, 67, 0.15);\n",
              "      fill: #174EA6;\n",
              "    }\n",
              "\n",
              "    .colab-df-buttons div {\n",
              "      margin-bottom: 4px;\n",
              "    }\n",
              "\n",
              "    [theme=dark] .colab-df-convert {\n",
              "      background-color: #3B4455;\n",
              "      fill: #D2E3FC;\n",
              "    }\n",
              "\n",
              "    [theme=dark] .colab-df-convert:hover {\n",
              "      background-color: #434B5C;\n",
              "      box-shadow: 0px 1px 3px 1px rgba(0, 0, 0, 0.15);\n",
              "      filter: drop-shadow(0px 1px 2px rgba(0, 0, 0, 0.3));\n",
              "      fill: #FFFFFF;\n",
              "    }\n",
              "  </style>\n",
              "\n",
              "    <script>\n",
              "      const buttonEl =\n",
              "        document.querySelector('#df-5d5d05ba-2fd3-461f-a196-7a4a606b60f8 button.colab-df-convert');\n",
              "      buttonEl.style.display =\n",
              "        google.colab.kernel.accessAllowed ? 'block' : 'none';\n",
              "\n",
              "      async function convertToInteractive(key) {\n",
              "        const element = document.querySelector('#df-5d5d05ba-2fd3-461f-a196-7a4a606b60f8');\n",
              "        const dataTable =\n",
              "          await google.colab.kernel.invokeFunction('convertToInteractive',\n",
              "                                                    [key], {});\n",
              "        if (!dataTable) return;\n",
              "\n",
              "        const docLinkHtml = 'Like what you see? Visit the ' +\n",
              "          '<a target=\"_blank\" href=https://colab.research.google.com/notebooks/data_table.ipynb>data table notebook</a>'\n",
              "          + ' to learn more about interactive tables.';\n",
              "        element.innerHTML = '';\n",
              "        dataTable['output_type'] = 'display_data';\n",
              "        await google.colab.output.renderOutput(dataTable, element);\n",
              "        const docLink = document.createElement('div');\n",
              "        docLink.innerHTML = docLinkHtml;\n",
              "        element.appendChild(docLink);\n",
              "      }\n",
              "    </script>\n",
              "  </div>\n",
              "\n",
              "\n",
              "<div id=\"df-1a1ffe23-cf68-4730-ae4d-05aa8752e76c\">\n",
              "  <button class=\"colab-df-quickchart\" onclick=\"quickchart('df-1a1ffe23-cf68-4730-ae4d-05aa8752e76c')\"\n",
              "            title=\"Suggest charts.\"\n",
              "            style=\"display:none;\">\n",
              "\n",
              "<svg xmlns=\"http://www.w3.org/2000/svg\" height=\"24px\"viewBox=\"0 0 24 24\"\n",
              "     width=\"24px\">\n",
              "    <g>\n",
              "        <path d=\"M19 3H5c-1.1 0-2 .9-2 2v14c0 1.1.9 2 2 2h14c1.1 0 2-.9 2-2V5c0-1.1-.9-2-2-2zM9 17H7v-7h2v7zm4 0h-2V7h2v10zm4 0h-2v-4h2v4z\"/>\n",
              "    </g>\n",
              "</svg>\n",
              "  </button>\n",
              "\n",
              "<style>\n",
              "  .colab-df-quickchart {\n",
              "    background-color: #E8F0FE;\n",
              "    border: none;\n",
              "    border-radius: 50%;\n",
              "    cursor: pointer;\n",
              "    display: none;\n",
              "    fill: #1967D2;\n",
              "    height: 32px;\n",
              "    padding: 0 0 0 0;\n",
              "    width: 32px;\n",
              "  }\n",
              "\n",
              "  .colab-df-quickchart:hover {\n",
              "    background-color: #E2EBFA;\n",
              "    box-shadow: 0px 1px 2px rgba(60, 64, 67, 0.3), 0px 1px 3px 1px rgba(60, 64, 67, 0.15);\n",
              "    fill: #174EA6;\n",
              "  }\n",
              "\n",
              "  [theme=dark] .colab-df-quickchart {\n",
              "    background-color: #3B4455;\n",
              "    fill: #D2E3FC;\n",
              "  }\n",
              "\n",
              "  [theme=dark] .colab-df-quickchart:hover {\n",
              "    background-color: #434B5C;\n",
              "    box-shadow: 0px 1px 3px 1px rgba(0, 0, 0, 0.15);\n",
              "    filter: drop-shadow(0px 1px 2px rgba(0, 0, 0, 0.3));\n",
              "    fill: #FFFFFF;\n",
              "  }\n",
              "</style>\n",
              "\n",
              "  <script>\n",
              "    async function quickchart(key) {\n",
              "      const charts = await google.colab.kernel.invokeFunction(\n",
              "          'suggestCharts', [key], {});\n",
              "    }\n",
              "    (() => {\n",
              "      let quickchartButtonEl =\n",
              "        document.querySelector('#df-1a1ffe23-cf68-4730-ae4d-05aa8752e76c button');\n",
              "      quickchartButtonEl.style.display =\n",
              "        google.colab.kernel.accessAllowed ? 'block' : 'none';\n",
              "    })();\n",
              "  </script>\n",
              "</div>\n",
              "    </div>\n",
              "  </div>\n"
            ]
          },
          "metadata": {},
          "execution_count": 122
        }
      ],
      "source": [
        "df.head()"
      ]
    },
    {
      "cell_type": "code",
      "execution_count": null,
      "metadata": {
        "id": "tZrYvZaACP3f",
        "colab": {
          "base_uri": "https://localhost:8080/",
          "height": 310
        },
        "outputId": "8548c3f2-76e4-4573-b4b1-df97b676feda"
      },
      "outputs": [
        {
          "output_type": "execute_result",
          "data": {
            "text/plain": [
              "   Unnamed: 0       Date               Description  \\\n",
              "0           0 2023-06-22  2 BEDROOM HOUSE FOR RENT   \n",
              "1           1 2023-06-24  4 BEDROOM HOUSE FOR RENT   \n",
              "2           2 2023-08-15  4 BEDROOM HOUSE FOR RENT   \n",
              "3           3 2023-06-23  5 BEDROOM HOUSE FOR RENT   \n",
              "4           4 2023-07-14  4 BEDROOM HOUSE FOR RENT   \n",
              "\n",
              "                                            Type  \\\n",
              "0                        a nice 2 bedroom duplex   \n",
              "1                        a nice 4 bedroom duplex   \n",
              "2             serviced 4 bedroom terraced duplex   \n",
              "3       luxury 5 bedroom detached duplex with bq   \n",
              "4  luxury 4 bedroom semi detached duplex with bq   \n",
              "\n",
              "                                          Location  Number Of Bedrooms  \\\n",
              "0  Carlton Gate Estate, Akobo Gra Akobo Ibadan Oyo                   2   \n",
              "1                    Ikolaba Gra Bodija Ibadan Oyo                   4   \n",
              "2                                Ikota Lekki Lagos                   4   \n",
              "3                                Ikota Lekki Lagos                   5   \n",
              "4                        Lekki Phase 1 Lekki Lagos                   4   \n",
              "\n",
              "   Furnished Currency     Price  Property_type  Loc  State          ts  \n",
              "0          2        ₦   1800000              1    1      2  1687392000  \n",
              "1          2        ₦   2500000              1    3      2  1687564800  \n",
              "2          4        ₦   3500000              8    7      1  1692057600  \n",
              "3          4        ₦   7500000              0    7      1  1687478400  \n",
              "4          4        ₦  12000000              7   15      1  1689292800  "
            ],
            "text/html": [
              "\n",
              "  <div id=\"df-48ea2b0c-331b-4d6d-b342-18ce53ec513e\" class=\"colab-df-container\">\n",
              "    <div>\n",
              "<style scoped>\n",
              "    .dataframe tbody tr th:only-of-type {\n",
              "        vertical-align: middle;\n",
              "    }\n",
              "\n",
              "    .dataframe tbody tr th {\n",
              "        vertical-align: top;\n",
              "    }\n",
              "\n",
              "    .dataframe thead th {\n",
              "        text-align: right;\n",
              "    }\n",
              "</style>\n",
              "<table border=\"1\" class=\"dataframe\">\n",
              "  <thead>\n",
              "    <tr style=\"text-align: right;\">\n",
              "      <th></th>\n",
              "      <th>Unnamed: 0</th>\n",
              "      <th>Date</th>\n",
              "      <th>Description</th>\n",
              "      <th>Type</th>\n",
              "      <th>Location</th>\n",
              "      <th>Number Of Bedrooms</th>\n",
              "      <th>Furnished</th>\n",
              "      <th>Currency</th>\n",
              "      <th>Price</th>\n",
              "      <th>Property_type</th>\n",
              "      <th>Loc</th>\n",
              "      <th>State</th>\n",
              "      <th>ts</th>\n",
              "    </tr>\n",
              "  </thead>\n",
              "  <tbody>\n",
              "    <tr>\n",
              "      <th>0</th>\n",
              "      <td>0</td>\n",
              "      <td>2023-06-22</td>\n",
              "      <td>2 BEDROOM HOUSE FOR RENT</td>\n",
              "      <td>a nice 2 bedroom duplex</td>\n",
              "      <td>Carlton Gate Estate, Akobo Gra Akobo Ibadan Oyo</td>\n",
              "      <td>2</td>\n",
              "      <td>2</td>\n",
              "      <td>₦</td>\n",
              "      <td>1800000</td>\n",
              "      <td>1</td>\n",
              "      <td>1</td>\n",
              "      <td>2</td>\n",
              "      <td>1687392000</td>\n",
              "    </tr>\n",
              "    <tr>\n",
              "      <th>1</th>\n",
              "      <td>1</td>\n",
              "      <td>2023-06-24</td>\n",
              "      <td>4 BEDROOM HOUSE FOR RENT</td>\n",
              "      <td>a nice 4 bedroom duplex</td>\n",
              "      <td>Ikolaba Gra Bodija Ibadan Oyo</td>\n",
              "      <td>4</td>\n",
              "      <td>2</td>\n",
              "      <td>₦</td>\n",
              "      <td>2500000</td>\n",
              "      <td>1</td>\n",
              "      <td>3</td>\n",
              "      <td>2</td>\n",
              "      <td>1687564800</td>\n",
              "    </tr>\n",
              "    <tr>\n",
              "      <th>2</th>\n",
              "      <td>2</td>\n",
              "      <td>2023-08-15</td>\n",
              "      <td>4 BEDROOM HOUSE FOR RENT</td>\n",
              "      <td>serviced 4 bedroom terraced duplex</td>\n",
              "      <td>Ikota Lekki Lagos</td>\n",
              "      <td>4</td>\n",
              "      <td>4</td>\n",
              "      <td>₦</td>\n",
              "      <td>3500000</td>\n",
              "      <td>8</td>\n",
              "      <td>7</td>\n",
              "      <td>1</td>\n",
              "      <td>1692057600</td>\n",
              "    </tr>\n",
              "    <tr>\n",
              "      <th>3</th>\n",
              "      <td>3</td>\n",
              "      <td>2023-06-23</td>\n",
              "      <td>5 BEDROOM HOUSE FOR RENT</td>\n",
              "      <td>luxury 5 bedroom detached duplex with bq</td>\n",
              "      <td>Ikota Lekki Lagos</td>\n",
              "      <td>5</td>\n",
              "      <td>4</td>\n",
              "      <td>₦</td>\n",
              "      <td>7500000</td>\n",
              "      <td>0</td>\n",
              "      <td>7</td>\n",
              "      <td>1</td>\n",
              "      <td>1687478400</td>\n",
              "    </tr>\n",
              "    <tr>\n",
              "      <th>4</th>\n",
              "      <td>4</td>\n",
              "      <td>2023-07-14</td>\n",
              "      <td>4 BEDROOM HOUSE FOR RENT</td>\n",
              "      <td>luxury 4 bedroom semi detached duplex with bq</td>\n",
              "      <td>Lekki Phase 1 Lekki Lagos</td>\n",
              "      <td>4</td>\n",
              "      <td>4</td>\n",
              "      <td>₦</td>\n",
              "      <td>12000000</td>\n",
              "      <td>7</td>\n",
              "      <td>15</td>\n",
              "      <td>1</td>\n",
              "      <td>1689292800</td>\n",
              "    </tr>\n",
              "  </tbody>\n",
              "</table>\n",
              "</div>\n",
              "    <div class=\"colab-df-buttons\">\n",
              "\n",
              "  <div class=\"colab-df-container\">\n",
              "    <button class=\"colab-df-convert\" onclick=\"convertToInteractive('df-48ea2b0c-331b-4d6d-b342-18ce53ec513e')\"\n",
              "            title=\"Convert this dataframe to an interactive table.\"\n",
              "            style=\"display:none;\">\n",
              "\n",
              "  <svg xmlns=\"http://www.w3.org/2000/svg\" height=\"24px\" viewBox=\"0 -960 960 960\">\n",
              "    <path d=\"M120-120v-720h720v720H120Zm60-500h600v-160H180v160Zm220 220h160v-160H400v160Zm0 220h160v-160H400v160ZM180-400h160v-160H180v160Zm440 0h160v-160H620v160ZM180-180h160v-160H180v160Zm440 0h160v-160H620v160Z\"/>\n",
              "  </svg>\n",
              "    </button>\n",
              "\n",
              "  <style>\n",
              "    .colab-df-container {\n",
              "      display:flex;\n",
              "      gap: 12px;\n",
              "    }\n",
              "\n",
              "    .colab-df-convert {\n",
              "      background-color: #E8F0FE;\n",
              "      border: none;\n",
              "      border-radius: 50%;\n",
              "      cursor: pointer;\n",
              "      display: none;\n",
              "      fill: #1967D2;\n",
              "      height: 32px;\n",
              "      padding: 0 0 0 0;\n",
              "      width: 32px;\n",
              "    }\n",
              "\n",
              "    .colab-df-convert:hover {\n",
              "      background-color: #E2EBFA;\n",
              "      box-shadow: 0px 1px 2px rgba(60, 64, 67, 0.3), 0px 1px 3px 1px rgba(60, 64, 67, 0.15);\n",
              "      fill: #174EA6;\n",
              "    }\n",
              "\n",
              "    .colab-df-buttons div {\n",
              "      margin-bottom: 4px;\n",
              "    }\n",
              "\n",
              "    [theme=dark] .colab-df-convert {\n",
              "      background-color: #3B4455;\n",
              "      fill: #D2E3FC;\n",
              "    }\n",
              "\n",
              "    [theme=dark] .colab-df-convert:hover {\n",
              "      background-color: #434B5C;\n",
              "      box-shadow: 0px 1px 3px 1px rgba(0, 0, 0, 0.15);\n",
              "      filter: drop-shadow(0px 1px 2px rgba(0, 0, 0, 0.3));\n",
              "      fill: #FFFFFF;\n",
              "    }\n",
              "  </style>\n",
              "\n",
              "    <script>\n",
              "      const buttonEl =\n",
              "        document.querySelector('#df-48ea2b0c-331b-4d6d-b342-18ce53ec513e button.colab-df-convert');\n",
              "      buttonEl.style.display =\n",
              "        google.colab.kernel.accessAllowed ? 'block' : 'none';\n",
              "\n",
              "      async function convertToInteractive(key) {\n",
              "        const element = document.querySelector('#df-48ea2b0c-331b-4d6d-b342-18ce53ec513e');\n",
              "        const dataTable =\n",
              "          await google.colab.kernel.invokeFunction('convertToInteractive',\n",
              "                                                    [key], {});\n",
              "        if (!dataTable) return;\n",
              "\n",
              "        const docLinkHtml = 'Like what you see? Visit the ' +\n",
              "          '<a target=\"_blank\" href=https://colab.research.google.com/notebooks/data_table.ipynb>data table notebook</a>'\n",
              "          + ' to learn more about interactive tables.';\n",
              "        element.innerHTML = '';\n",
              "        dataTable['output_type'] = 'display_data';\n",
              "        await google.colab.output.renderOutput(dataTable, element);\n",
              "        const docLink = document.createElement('div');\n",
              "        docLink.innerHTML = docLinkHtml;\n",
              "        element.appendChild(docLink);\n",
              "      }\n",
              "    </script>\n",
              "  </div>\n",
              "\n",
              "\n",
              "<div id=\"df-c4888358-1d96-44b3-8d2a-b33c08ffb708\">\n",
              "  <button class=\"colab-df-quickchart\" onclick=\"quickchart('df-c4888358-1d96-44b3-8d2a-b33c08ffb708')\"\n",
              "            title=\"Suggest charts.\"\n",
              "            style=\"display:none;\">\n",
              "\n",
              "<svg xmlns=\"http://www.w3.org/2000/svg\" height=\"24px\"viewBox=\"0 0 24 24\"\n",
              "     width=\"24px\">\n",
              "    <g>\n",
              "        <path d=\"M19 3H5c-1.1 0-2 .9-2 2v14c0 1.1.9 2 2 2h14c1.1 0 2-.9 2-2V5c0-1.1-.9-2-2-2zM9 17H7v-7h2v7zm4 0h-2V7h2v10zm4 0h-2v-4h2v4z\"/>\n",
              "    </g>\n",
              "</svg>\n",
              "  </button>\n",
              "\n",
              "<style>\n",
              "  .colab-df-quickchart {\n",
              "    background-color: #E8F0FE;\n",
              "    border: none;\n",
              "    border-radius: 50%;\n",
              "    cursor: pointer;\n",
              "    display: none;\n",
              "    fill: #1967D2;\n",
              "    height: 32px;\n",
              "    padding: 0 0 0 0;\n",
              "    width: 32px;\n",
              "  }\n",
              "\n",
              "  .colab-df-quickchart:hover {\n",
              "    background-color: #E2EBFA;\n",
              "    box-shadow: 0px 1px 2px rgba(60, 64, 67, 0.3), 0px 1px 3px 1px rgba(60, 64, 67, 0.15);\n",
              "    fill: #174EA6;\n",
              "  }\n",
              "\n",
              "  [theme=dark] .colab-df-quickchart {\n",
              "    background-color: #3B4455;\n",
              "    fill: #D2E3FC;\n",
              "  }\n",
              "\n",
              "  [theme=dark] .colab-df-quickchart:hover {\n",
              "    background-color: #434B5C;\n",
              "    box-shadow: 0px 1px 3px 1px rgba(0, 0, 0, 0.15);\n",
              "    filter: drop-shadow(0px 1px 2px rgba(0, 0, 0, 0.3));\n",
              "    fill: #FFFFFF;\n",
              "  }\n",
              "</style>\n",
              "\n",
              "  <script>\n",
              "    async function quickchart(key) {\n",
              "      const charts = await google.colab.kernel.invokeFunction(\n",
              "          'suggestCharts', [key], {});\n",
              "    }\n",
              "    (() => {\n",
              "      let quickchartButtonEl =\n",
              "        document.querySelector('#df-c4888358-1d96-44b3-8d2a-b33c08ffb708 button');\n",
              "      quickchartButtonEl.style.display =\n",
              "        google.colab.kernel.accessAllowed ? 'block' : 'none';\n",
              "    })();\n",
              "  </script>\n",
              "</div>\n",
              "    </div>\n",
              "  </div>\n"
            ]
          },
          "metadata": {},
          "execution_count": 123
        }
      ],
      "source": [
        "df['ts'] = df.Date.values.astype(np.int64) // 10 ** 9\n",
        "df.head()"
      ]
    },
    {
      "cell_type": "code",
      "execution_count": null,
      "metadata": {
        "id": "KLFlvNJzCSOT"
      },
      "outputs": [],
      "source": [
        "df.drop(columns=['Unnamed: 0','Date', 'Description', 'Type', 'Location', 'Currency'], inplace=True)"
      ]
    },
    {
      "cell_type": "code",
      "execution_count": null,
      "metadata": {
        "id": "I6LFd_NV-IIj",
        "colab": {
          "base_uri": "https://localhost:8080/",
          "height": 581
        },
        "outputId": "984bfcd0-52a9-44f0-891f-d69c140f6108"
      },
      "outputs": [
        {
          "output_type": "display_data",
          "data": {
            "text/plain": [
              "<Figure size 640x480 with 1 Axes>"
            ],
            "image/png": "[encoded data removed]"
          },
          "metadata": {}
        }
      ],
      "source": [
        "from sklearn.preprocessing import StandardScaler\n",
        "from sklearn.linear_model import Lasso\n",
        "X= df.drop(\"Price\", axis=1).values\n",
        "y = df[\"Price\"].values\n",
        "\n",
        "names = df.drop(\"Price\", axis=1).columns\n",
        "lasso = Lasso(alpha=0.1)\n",
        "lasso_coef= lasso.fit(X, y).coef_\n",
        "plt.bar(names, lasso_coef)\n",
        "plt.xticks(rotation=90)\n",
        "plt.show()"
      ]
    },
    {
      "cell_type": "code",
      "execution_count": null,
      "metadata": {
        "id": "4MS4SlFV-IGx"
      },
      "outputs": [],
      "source": [
        "df.drop(columns=['State'], inplace=True)"
      ]
    },
    {
      "cell_type": "code",
      "execution_count": null,
      "metadata": {
        "id": "zeolNWOS-H93"
      },
      "outputs": [],
      "source": [
        "from sklearn.linear_model import LinearRegression\n",
        "from sklearn.metrics import accuracy_score, mean_squared_error\n",
        "from sklearn.model_selection import train_test_split\n",
        "\n",
        "X_train, X_test, y_train,y_test = train_test_split(X,y,test_size=0.3, random_state=42)"
      ]
    },
    {
      "cell_type": "code",
      "execution_count": null,
      "metadata": {
        "id": "vlDJJCnGpu9I",
        "colab": {
          "base_uri": "https://localhost:8080/"
        },
        "outputId": "c969b3ab-c9d0-4889-a994-02f78153e229"
      },
      "outputs": [
        {
          "output_type": "stream",
          "name": "stdout",
          "text": [
            "[[ 6007246.37681159  5376923.07692308  5540853.65853659  6246263.34519573\n",
            "   5407142.85714286  6641666.66666667  7527272.72727273  6007246.37681159\n",
            "   7000000.          6895833.33333333  5674720.67039106  2466666.66666667\n",
            "   7855594.40559441 11900000.         11500000.          4100000.\n",
            "   6076775.7809157   6105545.70777412  1100000.          5508333.33333333\n",
            "   5914512.71186441  5986384.97652582  6161670.23554604  3000000.\n",
            "   6509609.12052117  6169583.33333333  1800000.          4404347.82608696\n",
            "   6435581.39534884  6187804.87804878  6303125.          6400000.\n",
            "   6180532.44592346  6300012.63200445  6000000.          5540853.65853659\n",
            "   8725675.67567568  7147765.36312849  5766539.44020356  6645283.01886792\n",
            "   6368834.79648843  5780000.          8147530.86419753  6076775.7809157\n",
            "   6000888.58509911  8248529.41176471  7527272.72727273  7921875.\n",
            "   7125395.03386005  6281666.66666667  6213551.40186916  7580597.01492537\n",
            "   5932290.18492176  9711111.11111111  6169163.7630662   5926923.07692308\n",
            "   6700000.          5713043.47826087  6161670.23554604  6518489.98459168\n",
            "   7979545.45454545  3000000.          4807142.85714286  4753846.15384615\n",
            "   6715973.37770383  5657933.57933579  6460800.         11500000.\n",
            "   6213551.40186916  3250000.          6283812.94964029  6925000.\n",
            "   9000000.          6422587.54863813  6033470.39473684  5755000.\n",
            "   6116558.44155844  6469977.01589734  5926934.98452012  6702364.86486487\n",
            "   6282758.62068965  6407894.73684211  6250000.          5540853.65853659\n",
            "   6895833.33333333  5621142.85714286  8725675.67567568  6915384.61538462\n",
            "   6100089.90110878 11335714.28571429  5785869.56521739 10638461.53846154\n",
            "   3000000.          5713043.47826087  5791634.24124514  7304545.45454545\n",
            "   5621142.85714286  6000000.          6486570.52726453  7263731.34328358\n",
            "   5768027.21088435  5450000.          3000000.          6657635.4679803\n",
            "   6303125.          7117647.05882353  6442331.93277311  5914512.71186441\n",
            "   9236170.21276596  6517910.44776119  5250000.          5550120.77294686\n",
            "   5657933.57933579  6198333.09486336  8000000.          3628571.42857143\n",
            "   5902404.31795878 11500000.          6323894.34889435  7263731.34328358\n",
            "   6993577.98165138  8248529.41176471  5817848.41075795  6782258.06451613\n",
            "   6882524.27184466  5706284.91620112  6525604.18027433  8493939.39393939\n",
            "   7040710.38251366  5753333.33333333  5663727.95969773  6140958.01937567\n",
            "  11500000.          8000000.          4753846.15384615  4233333.33333333\n",
            "   6919250.          6076775.7809157   6573403.63210311  6817256.63716814\n",
            "   6116558.44155844  5701000.          5468867.9245283   5428488.37209302\n",
            "   6301162.79069767  6377954.97185741  5333333.33333333  5450000.\n",
            "   6700000.          6703822.19705549  6486570.52726453  6048888.88888889\n",
            "   5250000.          6032061.06870229  6323894.34889435  6583333.33333333\n",
            "   7352500.          5888811.18881119  6213551.40186916  5725000.\n",
            "   6323894.34889435  5785869.56521739  3800000.          5260416.66666667\n",
            "   6466666.66666667  7883333.33333333  6819736.84210526  7514285.71428571\n",
            "   7117647.05882353  7181818.18181818  5877623.59063313  6801646.70658683\n",
            "   5668478.26086957  6865079.36507936  6300012.63200445  6564062.5\n",
            "   8493939.39393939  5897122.30215827  5668478.26086957  6993577.98165138\n",
            "   5783024.69135802  6469977.01589734  6518489.98459168  5707746.47887324\n",
            "   5674720.67039106  6606564.65942744  6261526.23211447  6323894.34889435\n",
            "   8725675.67567568 12000000.          6419777.92436236  6463297.44816587\n",
            "   6301162.79069767  7000000.          4652173.91304348  5089906.10328638\n",
            "   5929045.64315353  5428488.37209302  6229464.28571429  5886776.85950413\n",
            "   5785694.63548831 10333333.33333333 12000000.          6000888.58509911\n",
            "   5570000.          6140958.01937567  4100000.          4323529.41176471\n",
            "   5298809.52380952  7514285.71428571  5888811.18881119  5089906.10328638\n",
            "   6348251.01072245  4400000.          5785694.63548831  7352500.\n",
            "   6882524.27184466  6180354.0735648   6161670.23554604  6322269.11618669\n",
            "   4400000.          6919250.          4400000.          5657933.57933579\n",
            "   7181818.18181818  4400000.          3250000.          6621061.64383562\n",
            "   6415639.81042654  6925000.          6627903.60046458  6149425.28735632\n",
            "  12000000.          6419777.92436236  5499450.54945055  6621061.64383562\n",
            "   5713043.47826087  6140958.01937567  6116558.44155844  7514285.71428571\n",
            "   6229464.28571429  7611111.11111111  6224754.42043222  8611111.11111111\n",
            "   6179931.53110613  5393983.40248963  5701000.          5986384.97652582\n",
            "   5791634.24124514  6504635.19313305  4571428.57142857  6045764.11960133\n",
            "   6229464.28571429  4675555.55555556  6643268.41659611  5758333.33333333\n",
            "  12333333.33333333  5817848.41075795  6112796.07163489  7181818.18181818\n",
            "   5905423.85057471  5376923.07692308  5929045.64315353  5860219.5945946\n",
            "   5621142.85714286  6700000.          6166974.35897436  5860219.5945946\n",
            "   6032061.06870229  6325714.28571429  6214622.64150943  6606564.65942744\n",
            "   7080444.44444444 10638461.53846154 11500000.          9236170.21276596\n",
            "   5852307.69230769  6458392.22614841  7600000.          5663727.95969773\n",
            "   5800543.47826087  5621142.85714286  5758333.33333333  6700000.\n",
            "   5887223.75690608  9428571.42857143  7077682.40343348  3250000.\n",
            "   6419777.92436236  6250000.          3500000.          6768888.88888889\n",
            "   7409166.66666667  7514285.71428571  6442331.93277311  5089906.10328638\n",
            "   5663727.95969773  6166974.35897436  6250000.         11335714.28571429\n",
            "   6076775.7809157   4100000.          6925000.          9477272.72727273\n",
            "   6169583.33333333  4652173.91304348  5033333.33333333  4400000.\n",
            "   6157258.65880619  6518489.98459168  3500000.          4233333.33333333\n",
            "   5887223.75690608  5663727.95969773  5792727.27272727  5376923.07692308\n",
            "   6202697.22013524  9925000.         10638461.53846154  7069230.76923077\n",
            "   6033470.39473684  8000000.         11335714.28571429  6183333.33333333\n",
            "   6169583.33333333  6229813.66459627  3628571.42857143  5468867.9245283\n",
            "   6509609.12052117  6250000.          6202697.22013524  6198333.09486336\n",
            "   8248529.41176471  6624200.91324201  6606564.65942744  5706284.91620112\n",
            "   5598260.86956522  5650934.57943925  7000000.          4404347.82608696\n",
            "   4400000.          5445454.54545455  5857293.86892178  5438750.\n",
            "  17250000.          5766539.44020356  4807142.85714286  6301162.79069767\n",
            "   5765384.61538462  6486507.93650794  6509609.12052117  5707746.47887324\n",
            "  12333333.33333333  5668478.26086957  3000000.          5806620.20905923\n",
            "   6250000.          6166974.35897436  6598795.18072289  4753846.15384615\n",
            "   3000000.          6400000.          7750000.          6140958.01937567\n",
            "   6415639.81042654  5445454.54545455  5845871.55963303  7855594.40559441\n",
            "   6484776.90288714  5663727.95969773  6486570.52726453  5089906.10328638\n",
            "   7409166.66666667  5791634.24124514  5376923.07692308  6121045.57640751\n",
            "   6404722.22222222  4812500.          5663727.95969773  6000000.\n",
            "   4652173.91304348  5755000.          6435581.39534884  6169583.33333333\n",
            "   6451226.82660851  5960142.18009479  6606564.65942744  5990917.10758377\n",
            "   5938702.14752568  5746788.99082569  6925000.          6293797.80280907\n",
            "   5960142.18009479 11500000.          7785365.85365854  5791634.24124514\n",
            "   6146776.77677678  6166675.46870874  4109302.3255814   6458392.22614841]]\n"
          ]
        }
      ],
      "source": [
        "from sklearn.ensemble import RandomForestRegressor\n",
        "from sklearn.model_selection import RandomizedSearchCV\n",
        "from copy import deepcopy\n",
        "import numpy as np\n",
        "import pandas as pd\n",
        "from datetime import datetime\n",
        "\n",
        "best_fit={}\n",
        "\n",
        "class RandomForestARModel():\n",
        "        # input randomized search to define the parameters that work\n",
        "    # best_fit={}\n",
        "\n",
        "    def random_forest_tuning(X_train, y_train):\n",
        "\n",
        "        model = RandomForestRegressor()\n",
        "        grid = {'n_estimators': [100, 200, 300, 400],\n",
        "              'max_depth': [2, 5, 8],\n",
        "              'max_features': ['sqrt', 'log2'],\n",
        "              'random_state': [42]}\n",
        "        random= RandomizedSearchCV(model, grid, cv=2)\n",
        "        random.fit(X_train, y_train)\n",
        "        best_fit= (random.best_params_)\n",
        "        return best_fit\n",
        "\n",
        "    def __init__(self, best_fit, n_lags=1, random_state=42):\n",
        "        self.n_lags = n_lags\n",
        "        self.model = RandomForestRegressor(**best_fit)\n",
        "\n",
        "    def fit(self, X_train, y_train):\n",
        "        train_df = pd.DataFrame(X_train)\n",
        "        self.train_df = deepcopy(train_df)\n",
        "\n",
        "        Xtrain = pd.concat([train_df.shift(t) for t in range(1, self.n_lags + 1)], axis=1).dropna()\n",
        "        self.Xtrain = Xtrain\n",
        "\n",
        "        y_df = pd.DataFrame(y_train)\n",
        "        ytrain = y_df.loc[Xtrain.index,:]\n",
        "        self.ytrain = ytrain\n",
        "\n",
        "        self.model.fit(Xtrain, ytrain.values.ravel())\n",
        "        return self.model\n",
        "\n",
        "    def sample_forecast(self,X_test, n_periods, n_samples, random_state):\n",
        "        n_samples = best_fit['n_estimators']\n",
        "        random_state = best_fit['random_state']\n",
        "        samples = self._perform_forecast(n_periods, n_samples, random_state )\n",
        "        output = self._retransform_forecast(samples, n_periods)\n",
        "        return output\n",
        "\n",
        "    def _perform_forecast(self, n_periods, n_samples, random_state):\n",
        "        samples = []\n",
        "        n_samples = best_fit['n_estimators']\n",
        "        random_state = best_fit['random_state']\n",
        "        # test_df = pd.DataFrame(X_test)\n",
        "        # self.test_df = deepcopy(test_df)\n",
        "        # X_test_lagged = pd.concat([test_df.shift(t) for t in range(1, self.n_lags + 1)], axis=1).dropna()\n",
        "\n",
        "        # y_test = pd.DataFrame(y_test)\n",
        "        # ytest = y_test.loc[X_test_lagged.index,:]\n",
        "\n",
        "\n",
        "        np.random.seed(random_state)\n",
        "\n",
        "        for i in range(n_samples):\n",
        "\n",
        "           Xf = np.concatenate([self.Xtrain.iloc[-1,1:].values.reshape(1,-1),\n",
        "                                 self.ytrain.iloc[-1].values.reshape(1,1)],1)\n",
        "           forecasts = []\n",
        "\n",
        "           for t in range(n_periods):\n",
        "                tree = self.model.estimators_[np.random.randint(len(self.model.estimators_))]\n",
        "                pred = tree.predict(Xf)[0]\n",
        "                forecasts.append(pred)\n",
        "\n",
        "                Xf = np.concatenate([Xf[:, 1:], np.array([[pred]])], 1)\n",
        "                samples.append(forecasts)\n",
        "\n",
        "        return samples\n",
        "\n",
        "    def _retransform_forecast(self, samples, n_periods):\n",
        "        full_sample_tree = []\n",
        "\n",
        "        for samp in samples:\n",
        "            draw = np.array(samp)\n",
        "            result = draw\n",
        "\n",
        "            full_sample_tree.append(result.reshape(-1, 1))\n",
        "\n",
        "        return np.concatenate(full_sample_tree, 1)\n",
        "\n",
        "n_periods = 1\n",
        "# today = datetime.now().date()\n",
        "\n",
        "# # next_month = today.replace(month=today.month + 3)\n",
        "# timestamp_mon = int(datetime.combine(today, datetime.min.time()).timestamp())\n",
        "# X_mon = np.array([[5, 'terrace duplex', 'Chevron Lekki', timestamp_mon]])\n",
        "# X_mon[:, 1] = le_pro.transform(X_mon[:, 1])\n",
        "# X_mon[:, 2] = le_loc.transform(X_mon[:, 2])\n",
        "# X_mon = X_mon.astype(int)\n",
        "\n",
        "best_fit = RandomForestARModel.random_forest_tuning(X_train, y_train)\n",
        "model = RandomForestARModel(best_fit, n_lags=3)\n",
        "model.fit(X_train,y_train)\n",
        "random_state = best_fit['random_state']\n",
        "n_sample = best_fit['n_estimators']\n",
        "forecast_samples = model.sample_forecast(X_test, n_periods,n_sample, random_state)\n",
        "print(best_fit)\n",
        "print(forecast_samples)\n"
      ]
    },
    {
      "cell_type": "code",
      "execution_count": null,
      "metadata": {
        "id": "4rkczsyDcWVv",
        "colab": {
          "base_uri": "https://localhost:8080/"
        },
        "outputId": "eeb2320f-fc7e-40d1-8d18-9444373f98a1"
      },
      "outputs": [
        {
          "output_type": "stream",
          "name": "stdout",
          "text": [
            "6621465.29099664\n",
            "1800000.0\n",
            "12721428.571427949\n",
            "90\n",
            "2690319.4223500732\n"
          ]
        }
      ],
      "source": [
        "from dateutil.relativedelta import relativedelta\n",
        "\n",
        "\n",
        "today = datetime.now().date()\n",
        "# today_year = today.year\n",
        "# today_month = today.month\n",
        "# today_day = today.day\n",
        "# d_day = datetime(today_year, today_month, today_day)\n",
        "\n",
        "# next = today + relativedelta(months=3)\n",
        "# next_year = next.year\n",
        "# next_mon = next.month\n",
        "# next_day = next.day\n",
        "# future = datetime(next_year, next_mon, next_day)\n",
        "# difference = future - d_day\n",
        "# n_periods = difference.days - 1\n",
        "\n",
        "timestamp_mon = int(datetime.combine(next, datetime.min.time()).timestamp())\n",
        "X_mon = np.array([[5, 'Serviced & Newly Built', 'terrace duplex', 'Chevron', timestamp_mon]])\n",
        "X_mon[:, 1] = le_furnished.transform(X_mon[:,1])\n",
        "X_mon[:, 2] = le_pro.transform(X_mon[:, 2])\n",
        "X_mon[:, 3] = le_loc.transform(X_mon[:, 3])\n",
        "X_mon = X_mon.astype(int)\n",
        "n_periods= 90\n",
        "\n",
        "forecast_three = model.sample_forecast(X_mon, n_periods,n_sample, random_state)\n",
        "means_three = np.mean(forecast_three,axis = 1)\n",
        "lowers_ = np.quantile(forecast_three,0.05,1)\n",
        "uppers_ = np.quantile(forecast_three,0.95,1)\n",
        "\n",
        "# print(forecast_[0])\n",
        "print(np.mean((means_three)))\n",
        "print(min(lowers_))\n",
        "print(max(uppers_))\n",
        "print(n_periods)\n",
        "\n",
        "rmse_three = np.sqrt(np.mean((forecast_three - means_three[:, np.newaxis])**2, axis=0))\n",
        "print(np.mean(rmse_three))\n",
        "\n",
        "# mean for today\n",
        "# mean in 90 dates\n",
        "# mean in 30 days\n",
        "# mean in 60 days\n",
        "# train and test date\n",
        "# rmse result\n",
        "# each mean value for"
      ]
    },
    {
      "cell_type": "code",
      "execution_count": null,
      "metadata": {
        "id": "sT8_j49mdQSe",
        "colab": {
          "base_uri": "https://localhost:8080/"
        },
        "outputId": "0fd61d89-2baa-4d75-9149-41196c56fecd"
      },
      "outputs": [
        {
          "output_type": "stream",
          "name": "stdout",
          "text": [
            "6597465.0368674565\n",
            "1825000.0\n",
            "12714285.714285715\n",
            "60\n"
          ]
        }
      ],
      "source": [
        "today = datetime.now().date()\n",
        "today_year = today.year\n",
        "today_month = today.month\n",
        "today_day = today.day\n",
        "d_day = datetime(today_year, today_month, today_day)\n",
        "\n",
        "next = today + relativedelta(months=2)\n",
        "next_year = next.year\n",
        "next_mon = next.month\n",
        "next_day = next.day\n",
        "future = datetime(next_year, next_mon, next_day)\n",
        "difference = future - d_day\n",
        "n_periods = difference.days - 1\n",
        "\n",
        "timestamp_mon = int(datetime.combine(next, datetime.min.time()).timestamp())\n",
        "X_mon = np.array([[5, 'Serviced & Newly Built', 'terrace duplex', 'Chevron', timestamp_mon]])\n",
        "X_mon[:, 1] = le_furnished.transform(X_mon[:,1])\n",
        "X_mon[:, 2] = le_pro.transform(X_mon[:, 2])\n",
        "X_mon[:, 3] = le_loc.transform(X_mon[:, 3])\n",
        "X_mon = X_mon.astype(int)\n",
        "\n",
        "\n",
        "forecast_two = model.sample_forecast(X_mon, n_periods,n_sample, random_state)\n",
        "means_two = np.mean(forecast_two,1)\n",
        "lowers_ = np.quantile(forecast_two,0.05,1)\n",
        "uppers_ = np.quantile(forecast_two,0.95,1)\n",
        "\n",
        "# print(forecast_two)\n",
        "print(np.mean((means_two)))\n",
        "print(min(lowers_))\n",
        "print(max(uppers_))\n",
        "print(n_periods)"
      ]
    },
    {
      "cell_type": "code",
      "execution_count": null,
      "metadata": {
        "id": "hb3h-9Ikdaqi",
        "colab": {
          "base_uri": "https://localhost:8080/"
        },
        "outputId": "d215e0af-8715-4ff9-fdec-5413b0840d7d"
      },
      "outputs": [
        {
          "output_type": "stream",
          "name": "stdout",
          "text": [
            "6570683.716229881\n",
            "1800000.0\n",
            "12372619.047618987\n",
            "30\n",
            "2491381.6822631145\n"
          ]
        }
      ],
      "source": [
        "today = datetime.now().date()\n",
        "today_year = today.year\n",
        "today_month = today.month\n",
        "today_day = today.day\n",
        "d_day = datetime(today_year, today_month, today_day)\n",
        "\n",
        "next = today + relativedelta(months=1)\n",
        "next_year = next.year\n",
        "next_mon = next.month\n",
        "next_day = next.day\n",
        "future = datetime(next_year, next_mon, next_day)\n",
        "difference = future - d_day\n",
        "n_periods = difference.days\n",
        "\n",
        "timestamp_mon = int(datetime.combine(next, datetime.min.time()).timestamp())\n",
        "X_mon = np.array([[5, 'Serviced & Newly Built', 'terrace duplex', 'Chevron', timestamp_mon]])\n",
        "X_mon[:, 1] = le_furnished.transform(X_mon[:,1])\n",
        "X_mon[:, 2] = le_pro.transform(X_mon[:, 2])\n",
        "X_mon[:, 3] = le_loc.transform(X_mon[:, 3])\n",
        "X_mon = X_mon.astype(int)\n",
        "\n",
        "\n",
        "forecast_ = model.sample_forecast(X_mon, n_periods,n_sample, random_state)\n",
        "means_one = np.mean(forecast_,1)\n",
        "lowers_ = np.quantile(forecast_,0.05,1)\n",
        "uppers_ = np.quantile(forecast_,0.95,1)\n",
        "rmse_one = np.sqrt(np.mean((forecast_ - means_one[:, np.newaxis])**2, axis=0))\n",
        "\n",
        "# print(forecast_[0])\n",
        "print(np.mean((means_one)))\n",
        "print(min(lowers_))\n",
        "print(max(uppers_))\n",
        "print(n_periods)\n",
        "print(np.mean(rmse_one))"
      ]
    }
  ],
  "metadata": {
    "colab": {
      "provenance": [],
      "mount_file_id": "1CRhJ73WJbMKRQjEHFYWyYtkqZUJYSMTp",
      "authorship_tag": "ABX9TyO/bK28HgBOiLrYoR92O6gU",
      "include_colab_link": true
    },
    "kernelspec": {
      "display_name": "Python 3",
      "name": "python3"
    },
    "language_info": {
      "name": "python"
    }
  },
  "nbformat": 4,
  "nbformat_minor": 0
}